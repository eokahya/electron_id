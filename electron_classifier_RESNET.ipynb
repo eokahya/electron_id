{
 "cells": [
  {
   "cell_type": "code",
   "execution_count": 1,
   "metadata": {},
   "outputs": [
    {
     "name": "stdout",
     "output_type": "stream",
     "text": [
      "3.6.3\n",
      "1.5.0\n"
     ]
    }
   ],
   "source": [
    "## Import libraries\n",
    "\n",
    "from platform import python_version\n",
    "print(python_version())\n",
    "import torch\n",
    "print(torch.__version__)\n",
    "import torchvision\n",
    "import torchvision.transforms as transforms\n",
    "import torch.optim as optim\n",
    "import torch.utils.data as utils\n",
    "import torch.nn as nn\n",
    "import torch.nn.functional as F\n",
    "\n",
    "from torchsummary import summary\n",
    "\n",
    "import numpy as np\n",
    "import matplotlib.pyplot as plt\n",
    "import h5py as h5\n",
    "\n",
    "import time\n",
    "import seaborn as sns\n",
    "import os\n",
    "import matplotlib.pyplot as plt\n",
    "import matplotlib.colors as colors\n",
    "from   matplotlib import pylab\n",
    "sns.set_style(\"whitegrid\")\n",
    "np.random.seed(697)\n",
    "\n",
    "from sklearn            import preprocessing\n",
    "from sklearn            import metrics\n",
    "from sklearn.metrics    import confusion_matrix, accuracy_score, roc_curve, auc, roc_auc_score\n",
    "from sklearn.datasets   import make_classification\n",
    "from sklearn.neighbors  import KNeighborsClassifier\n",
    "from sklearn.ensemble   import RandomForestClassifier\n",
    "from sklearn.model_selection import train_test_split\n",
    "\n",
    "import warnings\n",
    "warnings.filterwarnings(\"ignore\")"
   ]
  },
  {
   "cell_type": "code",
   "execution_count": 2,
   "metadata": {},
   "outputs": [],
   "source": [
    "DATA_DIR = ''\n",
    "#if torch.cuda.is_available():   \n",
    "#    torch.set_default_tensor_type('torch.cuda.FloatTensor')\n",
    "#def to_numpy(tensor):\n",
    "#    '''converts a GPU tensor to a numpy array'''\n",
    "#    return tensor.cpu().detach().numpy()\n",
    "\n",
    "# Bunu bu aşamada yapmıyoruz. Sebebi data'yı cpu'da oluşturup sonra batch batch to.device ile gpu'ya aktaracağız."
   ]
  },
  {
   "cell_type": "code",
   "execution_count": 3,
   "metadata": {},
   "outputs": [
    {
     "name": "stdout",
     "output_type": "stream",
     "text": [
      "\u001b[1;35m Key name:\u001b[1;m ['em_barrel_Lr0', 'em_barrel_Lr1', 'em_barrel_Lr1_fine', 'em_barrel_Lr2', 'em_barrel_Lr3', 'eventNumber', 'mcChannelNumber', 'p_ECIDSResult', 'p_Eratio', 'p_LHLoose', 'p_LHMedium', 'p_LHTight', 'p_LHValue', 'p_Reta', 'p_Rhad', 'p_Rphi', 'p_TRTPID', 'p_TruthOrigin', 'p_TruthType', 'p_charge', 'p_chi2', 'p_d0', 'p_d0Sig', 'p_dPOverP', 'p_deltaEta1', 'p_deltaPhiRescaled2', 'p_e', 'p_et_calo', 'p_eta', 'p_f1', 'p_f3', 'p_firstEgMotherTruthOrigin', 'p_firstEgMotherTruthType', 'p_iffTruth', 'p_mean_charge', 'p_mean_chi2', 'p_mean_d0', 'p_mean_deta', 'p_mean_dphi', 'p_mean_efrac', 'p_mean_ndof', 'p_mean_pixhits', 'p_mean_scthits', 'p_mean_sigmad0', 'p_mean_trthits', 'p_mean_vertex', 'p_mean_z0', 'p_nTracks', 'p_ndof', 'p_numberOfSCTHits', 'p_phi', 'p_pt_track', 'p_qd0Sig', 'p_sct_weight_charge', 'p_sigmad0', 'p_tracks', 'p_truth_eta', 'p_truth_phi', 'p_truth_pt', 'p_weta2', 'tile_barrel_Lr1', 'tile_barrel_Lr2', 'tile_barrel_Lr3', 'tracks', 'true_m']\n"
     ]
    }
   ],
   "source": [
    "f = h5.File('./el_data.h5', 'r') ## gives group\n",
    "print('\\033[1;35m Key name:\\033[1;m', list(f.keys()))"
   ]
  },
  {
   "cell_type": "code",
   "execution_count": 4,
   "metadata": {},
   "outputs": [
    {
     "name": "stdout",
     "output_type": "stream",
     "text": [
      "['em_barrel_Lr0', 'em_barrel_Lr1', 'em_barrel_Lr1_fine', 'em_barrel_Lr2', 'em_barrel_Lr3', 'eventNumber', 'mcChannelNumber', 'p_ECIDSResult', 'p_Eratio', 'p_LHLoose', 'p_LHMedium', 'p_LHTight', 'p_LHValue', 'p_Reta', 'p_Rhad', 'p_Rphi', 'p_TRTPID', 'p_TruthOrigin', 'p_TruthType', 'p_charge', 'p_chi2', 'p_d0', 'p_d0Sig', 'p_dPOverP', 'p_deltaEta1', 'p_deltaPhiRescaled2', 'p_e', 'p_et_calo', 'p_eta', 'p_f1', 'p_f3', 'p_firstEgMotherTruthOrigin', 'p_firstEgMotherTruthType', 'p_iffTruth', 'p_mean_charge', 'p_mean_chi2', 'p_mean_d0', 'p_mean_deta', 'p_mean_dphi', 'p_mean_efrac', 'p_mean_ndof', 'p_mean_pixhits', 'p_mean_scthits', 'p_mean_sigmad0', 'p_mean_trthits', 'p_mean_vertex', 'p_mean_z0', 'p_nTracks', 'p_ndof', 'p_numberOfSCTHits', 'p_phi', 'p_pt_track', 'p_qd0Sig', 'p_sct_weight_charge', 'p_sigmad0', 'p_tracks', 'p_truth_eta', 'p_truth_phi', 'p_truth_pt', 'p_weta2', 'tile_barrel_Lr1', 'tile_barrel_Lr2', 'tile_barrel_Lr3', 'tracks', 'true_m']\n"
     ]
    }
   ],
   "source": [
    "file_name = h5.File('./el_data.h5', 'r') ## gives group\n",
    "keys = list(file_name.keys())\n",
    "print(keys)\n",
    "#print(list(file_name[keys[0]]))\n",
    "#print(list(file_name[keys[1]]))\n",
    "#print(list(file_name[list(file_name.keys())[0]])) ## or\n",
    "file_name.close()"
   ]
  },
  {
   "cell_type": "code",
   "execution_count": 5,
   "metadata": {},
   "outputs": [],
   "source": [
    "def traverse_datasets(hdf_file):\n",
    "\n",
    "    def h5_dataset_iterator(g, prefix=''):\n",
    "        for key in g.keys():\n",
    "            item = g[key]\n",
    "            path = f'{prefix}/{key}'\n",
    "            if isinstance(item, h5.Dataset): ## test for dataset\n",
    "                yield (path, item)\n",
    "            elif isinstance(item, h5.Group): ## test for group (go down)\n",
    "                yield from h5_dataset_iterator(item, path)\n",
    "\n",
    "    with h5.File(hdf_file, 'r') as f:\n",
    "        for path, _ in h5_dataset_iterator(f):\n",
    "            yield path"
   ]
  },
  {
   "cell_type": "code",
   "execution_count": 6,
   "metadata": {},
   "outputs": [
    {
     "name": "stdout",
     "output_type": "stream",
     "text": [
      "\u001b[1;35m Path:\u001b[1;m /em_barrel_Lr0\n",
      "\u001b[1;36m Shape:\u001b[1;m (14675640, 7, 11)\n",
      "\u001b[1;33m Data type:\u001b[1;m float16\n",
      "\n",
      "\n",
      "\u001b[1;35m Path:\u001b[1;m /em_barrel_Lr1\n",
      "\u001b[1;36m Shape:\u001b[1;m (14675640, 7, 11)\n",
      "\u001b[1;33m Data type:\u001b[1;m float16\n",
      "\n",
      "\n",
      "\u001b[1;35m Path:\u001b[1;m /em_barrel_Lr1_fine\n",
      "\u001b[1;36m Shape:\u001b[1;m (14675640, 56, 11)\n",
      "\u001b[1;33m Data type:\u001b[1;m float16\n",
      "\n",
      "\n",
      "\u001b[1;35m Path:\u001b[1;m /em_barrel_Lr2\n",
      "\u001b[1;36m Shape:\u001b[1;m (14675640, 7, 11)\n",
      "\u001b[1;33m Data type:\u001b[1;m float16\n",
      "\n",
      "\n",
      "\u001b[1;35m Path:\u001b[1;m /em_barrel_Lr3\n",
      "\u001b[1;36m Shape:\u001b[1;m (14675640, 7, 11)\n",
      "\u001b[1;33m Data type:\u001b[1;m float16\n",
      "\n",
      "\n",
      "\u001b[1;35m Path:\u001b[1;m /eventNumber\n",
      "\u001b[1;36m Shape:\u001b[1;m (14675640,)\n",
      "\u001b[1;33m Data type:\u001b[1;m int32\n",
      "\n",
      "\n",
      "\u001b[1;35m Path:\u001b[1;m /mcChannelNumber\n",
      "\u001b[1;36m Shape:\u001b[1;m (14675640,)\n",
      "\u001b[1;33m Data type:\u001b[1;m int32\n",
      "\n",
      "\n",
      "\u001b[1;35m Path:\u001b[1;m /p_ECIDSResult\n",
      "\u001b[1;36m Shape:\u001b[1;m (14675640,)\n",
      "\u001b[1;33m Data type:\u001b[1;m float16\n",
      "\n",
      "\n",
      "\u001b[1;35m Path:\u001b[1;m /p_Eratio\n",
      "\u001b[1;36m Shape:\u001b[1;m (14675640,)\n",
      "\u001b[1;33m Data type:\u001b[1;m float16\n",
      "\n",
      "\n",
      "\u001b[1;35m Path:\u001b[1;m /p_LHLoose\n",
      "\u001b[1;36m Shape:\u001b[1;m (14675640,)\n",
      "\u001b[1;33m Data type:\u001b[1;m int32\n",
      "\n",
      "\n",
      "\u001b[1;35m Path:\u001b[1;m /p_LHMedium\n",
      "\u001b[1;36m Shape:\u001b[1;m (14675640,)\n",
      "\u001b[1;33m Data type:\u001b[1;m int32\n",
      "\n",
      "\n",
      "\u001b[1;35m Path:\u001b[1;m /p_LHTight\n",
      "\u001b[1;36m Shape:\u001b[1;m (14675640,)\n",
      "\u001b[1;33m Data type:\u001b[1;m int32\n",
      "\n",
      "\n",
      "\u001b[1;35m Path:\u001b[1;m /p_LHValue\n",
      "\u001b[1;36m Shape:\u001b[1;m (14675640,)\n",
      "\u001b[1;33m Data type:\u001b[1;m float16\n",
      "\n",
      "\n",
      "\u001b[1;35m Path:\u001b[1;m /p_Reta\n",
      "\u001b[1;36m Shape:\u001b[1;m (14675640,)\n",
      "\u001b[1;33m Data type:\u001b[1;m float16\n",
      "\n",
      "\n",
      "\u001b[1;35m Path:\u001b[1;m /p_Rhad\n",
      "\u001b[1;36m Shape:\u001b[1;m (14675640,)\n",
      "\u001b[1;33m Data type:\u001b[1;m float16\n",
      "\n",
      "\n",
      "\u001b[1;35m Path:\u001b[1;m /p_Rphi\n",
      "\u001b[1;36m Shape:\u001b[1;m (14675640,)\n",
      "\u001b[1;33m Data type:\u001b[1;m float16\n",
      "\n",
      "\n",
      "\u001b[1;35m Path:\u001b[1;m /p_TRTPID\n",
      "\u001b[1;36m Shape:\u001b[1;m (14675640,)\n",
      "\u001b[1;33m Data type:\u001b[1;m float16\n",
      "\n",
      "\n",
      "\u001b[1;35m Path:\u001b[1;m /p_TruthOrigin\n",
      "\u001b[1;36m Shape:\u001b[1;m (14675640,)\n",
      "\u001b[1;33m Data type:\u001b[1;m int32\n",
      "\n",
      "\n",
      "\u001b[1;35m Path:\u001b[1;m /p_TruthType\n",
      "\u001b[1;36m Shape:\u001b[1;m (14675640,)\n",
      "\u001b[1;33m Data type:\u001b[1;m int32\n",
      "\n",
      "\n",
      "\u001b[1;35m Path:\u001b[1;m /p_charge\n",
      "\u001b[1;36m Shape:\u001b[1;m (14675640,)\n",
      "\u001b[1;33m Data type:\u001b[1;m int32\n",
      "\n",
      "\n",
      "\u001b[1;35m Path:\u001b[1;m /p_chi2\n",
      "\u001b[1;36m Shape:\u001b[1;m (14675640,)\n",
      "\u001b[1;33m Data type:\u001b[1;m float16\n",
      "\n",
      "\n",
      "\u001b[1;35m Path:\u001b[1;m /p_d0\n",
      "\u001b[1;36m Shape:\u001b[1;m (14675640,)\n",
      "\u001b[1;33m Data type:\u001b[1;m float16\n",
      "\n",
      "\n",
      "\u001b[1;35m Path:\u001b[1;m /p_d0Sig\n",
      "\u001b[1;36m Shape:\u001b[1;m (14675640,)\n",
      "\u001b[1;33m Data type:\u001b[1;m float16\n",
      "\n",
      "\n",
      "\u001b[1;35m Path:\u001b[1;m /p_dPOverP\n",
      "\u001b[1;36m Shape:\u001b[1;m (14675640,)\n",
      "\u001b[1;33m Data type:\u001b[1;m float16\n",
      "\n",
      "\n",
      "\u001b[1;35m Path:\u001b[1;m /p_deltaEta1\n",
      "\u001b[1;36m Shape:\u001b[1;m (14675640,)\n",
      "\u001b[1;33m Data type:\u001b[1;m float16\n",
      "\n",
      "\n",
      "\u001b[1;35m Path:\u001b[1;m /p_deltaPhiRescaled2\n",
      "\u001b[1;36m Shape:\u001b[1;m (14675640,)\n",
      "\u001b[1;33m Data type:\u001b[1;m float16\n",
      "\n",
      "\n",
      "\u001b[1;35m Path:\u001b[1;m /p_e\n",
      "\u001b[1;36m Shape:\u001b[1;m (14675640,)\n",
      "\u001b[1;33m Data type:\u001b[1;m float16\n",
      "\n",
      "\n",
      "\u001b[1;35m Path:\u001b[1;m /p_et_calo\n",
      "\u001b[1;36m Shape:\u001b[1;m (14675640,)\n",
      "\u001b[1;33m Data type:\u001b[1;m float16\n",
      "\n",
      "\n",
      "\u001b[1;35m Path:\u001b[1;m /p_eta\n",
      "\u001b[1;36m Shape:\u001b[1;m (14675640,)\n",
      "\u001b[1;33m Data type:\u001b[1;m float16\n",
      "\n",
      "\n",
      "\u001b[1;35m Path:\u001b[1;m /p_f1\n",
      "\u001b[1;36m Shape:\u001b[1;m (14675640,)\n",
      "\u001b[1;33m Data type:\u001b[1;m float16\n",
      "\n",
      "\n",
      "\u001b[1;35m Path:\u001b[1;m /p_f3\n",
      "\u001b[1;36m Shape:\u001b[1;m (14675640,)\n",
      "\u001b[1;33m Data type:\u001b[1;m float16\n",
      "\n",
      "\n",
      "\u001b[1;35m Path:\u001b[1;m /p_firstEgMotherTruthOrigin\n",
      "\u001b[1;36m Shape:\u001b[1;m (14675640,)\n",
      "\u001b[1;33m Data type:\u001b[1;m int32\n",
      "\n",
      "\n",
      "\u001b[1;35m Path:\u001b[1;m /p_firstEgMotherTruthType\n",
      "\u001b[1;36m Shape:\u001b[1;m (14675640,)\n",
      "\u001b[1;33m Data type:\u001b[1;m int32\n",
      "\n",
      "\n",
      "\u001b[1;35m Path:\u001b[1;m /p_iffTruth\n",
      "\u001b[1;36m Shape:\u001b[1;m (14675640,)\n",
      "\u001b[1;33m Data type:\u001b[1;m int32\n",
      "\n",
      "\n",
      "\u001b[1;35m Path:\u001b[1;m /p_mean_charge\n",
      "\u001b[1;36m Shape:\u001b[1;m (14675640,)\n",
      "\u001b[1;33m Data type:\u001b[1;m float16\n",
      "\n",
      "\n",
      "\u001b[1;35m Path:\u001b[1;m /p_mean_chi2\n",
      "\u001b[1;36m Shape:\u001b[1;m (14675640,)\n",
      "\u001b[1;33m Data type:\u001b[1;m float16\n",
      "\n",
      "\n",
      "\u001b[1;35m Path:\u001b[1;m /p_mean_d0\n",
      "\u001b[1;36m Shape:\u001b[1;m (14675640,)\n",
      "\u001b[1;33m Data type:\u001b[1;m float16\n",
      "\n",
      "\n",
      "\u001b[1;35m Path:\u001b[1;m /p_mean_deta\n",
      "\u001b[1;36m Shape:\u001b[1;m (14675640,)\n",
      "\u001b[1;33m Data type:\u001b[1;m float16\n",
      "\n",
      "\n",
      "\u001b[1;35m Path:\u001b[1;m /p_mean_dphi\n",
      "\u001b[1;36m Shape:\u001b[1;m (14675640,)\n",
      "\u001b[1;33m Data type:\u001b[1;m float16\n",
      "\n",
      "\n",
      "\u001b[1;35m Path:\u001b[1;m /p_mean_efrac\n",
      "\u001b[1;36m Shape:\u001b[1;m (14675640,)\n",
      "\u001b[1;33m Data type:\u001b[1;m float16\n",
      "\n",
      "\n",
      "\u001b[1;35m Path:\u001b[1;m /p_mean_ndof\n",
      "\u001b[1;36m Shape:\u001b[1;m (14675640,)\n",
      "\u001b[1;33m Data type:\u001b[1;m float16\n",
      "\n",
      "\n",
      "\u001b[1;35m Path:\u001b[1;m /p_mean_pixhits\n",
      "\u001b[1;36m Shape:\u001b[1;m (14675640,)\n",
      "\u001b[1;33m Data type:\u001b[1;m float16\n",
      "\n",
      "\n",
      "\u001b[1;35m Path:\u001b[1;m /p_mean_scthits\n",
      "\u001b[1;36m Shape:\u001b[1;m (14675640,)\n",
      "\u001b[1;33m Data type:\u001b[1;m float16\n",
      "\n",
      "\n",
      "\u001b[1;35m Path:\u001b[1;m /p_mean_sigmad0\n",
      "\u001b[1;36m Shape:\u001b[1;m (14675640,)\n",
      "\u001b[1;33m Data type:\u001b[1;m float16\n",
      "\n",
      "\n",
      "\u001b[1;35m Path:\u001b[1;m /p_mean_trthits\n",
      "\u001b[1;36m Shape:\u001b[1;m (14675640,)\n",
      "\u001b[1;33m Data type:\u001b[1;m float16\n",
      "\n",
      "\n",
      "\u001b[1;35m Path:\u001b[1;m /p_mean_vertex\n",
      "\u001b[1;36m Shape:\u001b[1;m (14675640,)\n",
      "\u001b[1;33m Data type:\u001b[1;m float16\n",
      "\n",
      "\n",
      "\u001b[1;35m Path:\u001b[1;m /p_mean_z0\n",
      "\u001b[1;36m Shape:\u001b[1;m (14675640,)\n",
      "\u001b[1;33m Data type:\u001b[1;m float16\n",
      "\n",
      "\n",
      "\u001b[1;35m Path:\u001b[1;m /p_nTracks\n",
      "\u001b[1;36m Shape:\u001b[1;m (14675640,)\n",
      "\u001b[1;33m Data type:\u001b[1;m int32\n",
      "\n",
      "\n",
      "\u001b[1;35m Path:\u001b[1;m /p_ndof\n",
      "\u001b[1;36m Shape:\u001b[1;m (14675640,)\n",
      "\u001b[1;33m Data type:\u001b[1;m float16\n",
      "\n",
      "\n",
      "\u001b[1;35m Path:\u001b[1;m /p_numberOfSCTHits\n",
      "\u001b[1;36m Shape:\u001b[1;m (14675640,)\n",
      "\u001b[1;33m Data type:\u001b[1;m int32\n",
      "\n",
      "\n",
      "\u001b[1;35m Path:\u001b[1;m /p_phi\n",
      "\u001b[1;36m Shape:\u001b[1;m (14675640,)\n",
      "\u001b[1;33m Data type:\u001b[1;m float16\n",
      "\n",
      "\n",
      "\u001b[1;35m Path:\u001b[1;m /p_pt_track\n",
      "\u001b[1;36m Shape:\u001b[1;m (14675640,)\n",
      "\u001b[1;33m Data type:\u001b[1;m float16\n",
      "\n",
      "\n",
      "\u001b[1;35m Path:\u001b[1;m /p_qd0Sig\n",
      "\u001b[1;36m Shape:\u001b[1;m (14675640,)\n",
      "\u001b[1;33m Data type:\u001b[1;m float16\n",
      "\n",
      "\n",
      "\u001b[1;35m Path:\u001b[1;m /p_sct_weight_charge\n",
      "\u001b[1;36m Shape:\u001b[1;m (14675640,)\n",
      "\u001b[1;33m Data type:\u001b[1;m float16\n",
      "\n",
      "\n",
      "\u001b[1;35m Path:\u001b[1;m /p_sigmad0\n",
      "\u001b[1;36m Shape:\u001b[1;m (14675640,)\n",
      "\u001b[1;33m Data type:\u001b[1;m float16\n",
      "\n",
      "\n",
      "\u001b[1;35m Path:\u001b[1;m /p_tracks\n",
      "\u001b[1;36m Shape:\u001b[1;m (14675640, 20, 13)\n",
      "\u001b[1;33m Data type:\u001b[1;m float16\n",
      "\n",
      "\n",
      "\u001b[1;35m Path:\u001b[1;m /p_truth_eta\n",
      "\u001b[1;36m Shape:\u001b[1;m (14675640,)\n",
      "\u001b[1;33m Data type:\u001b[1;m float16\n",
      "\n",
      "\n",
      "\u001b[1;35m Path:\u001b[1;m /p_truth_phi\n",
      "\u001b[1;36m Shape:\u001b[1;m (14675640,)\n",
      "\u001b[1;33m Data type:\u001b[1;m float16\n",
      "\n",
      "\n",
      "\u001b[1;35m Path:\u001b[1;m /p_truth_pt\n",
      "\u001b[1;36m Shape:\u001b[1;m (14675640,)\n",
      "\u001b[1;33m Data type:\u001b[1;m float16\n",
      "\n",
      "\n",
      "\u001b[1;35m Path:\u001b[1;m /p_weta2\n",
      "\u001b[1;36m Shape:\u001b[1;m (14675640,)\n",
      "\u001b[1;33m Data type:\u001b[1;m float16\n",
      "\n",
      "\n",
      "\u001b[1;35m Path:\u001b[1;m /tile_barrel_Lr1\n",
      "\u001b[1;36m Shape:\u001b[1;m (14675640, 7, 11)\n",
      "\u001b[1;33m Data type:\u001b[1;m float16\n",
      "\n",
      "\n",
      "\u001b[1;35m Path:\u001b[1;m /tile_barrel_Lr2\n",
      "\u001b[1;36m Shape:\u001b[1;m (14675640, 7, 11)\n",
      "\u001b[1;33m Data type:\u001b[1;m float16\n",
      "\n",
      "\n",
      "\u001b[1;35m Path:\u001b[1;m /tile_barrel_Lr3\n",
      "\u001b[1;36m Shape:\u001b[1;m (14675640, 7, 11)\n",
      "\u001b[1;33m Data type:\u001b[1;m float16\n",
      "\n",
      "\n",
      "\u001b[1;35m Path:\u001b[1;m /tracks\n",
      "\u001b[1;36m Shape:\u001b[1;m (14675640, 50, 5)\n",
      "\u001b[1;33m Data type:\u001b[1;m float16\n",
      "\n",
      "\n",
      "\u001b[1;35m Path:\u001b[1;m /true_m\n",
      "\u001b[1;36m Shape:\u001b[1;m (14675640,)\n",
      "\u001b[1;33m Data type:\u001b[1;m float16\n",
      "\n",
      "\n"
     ]
    }
   ],
   "source": [
    "with h5.File('./el_data.h5', 'r') as f:\n",
    "    for dset in traverse_datasets('./el_data.h5'):\n",
    "        \n",
    "        print('\\033[1;35m Path:\\033[1;m', dset)\n",
    "        \n",
    "        print('\\033[1;36m Shape:\\033[1;m', f[dset].shape)\n",
    "        \n",
    "        print('\\033[1;33m Data type:\\033[1;m', f[dset].dtype)\n",
    "        \n",
    "        print('\\n')"
   ]
  },
  {
   "cell_type": "code",
   "execution_count": 7,
   "metadata": {},
   "outputs": [],
   "source": [
    "def make_sample(data_file, batch_size, all_features, images, upscale=False, denormalize=False, index=0):\n",
    "    data = h5.File(data_file, 'r')\n",
    "    idx_1, idx_2 = index*batch_size, (index+1)*batch_size\n",
    "    sample_dict  = dict([key, data[key][idx_1:idx_2]] for key in all_features)\n",
    "    if images != [] and denormalize:\n",
    "        energy = sample_dict['p_e']\n",
    "        for key in images: sample_dict[key] = sample_dict[key] * energy[:, np.newaxis, np.newaxis]\n",
    "        sample_dict['tracks'][:,:,0] = sample_dict['tracks'][:,:,0] * energy[:, np.newaxis]\n",
    "    if images != [] and upscale:\n",
    "        for i in images: sample_dict[i] = resize_images(np.float32(sample_dict[i]), target_shape=(56,11))\n",
    "    return sample_dict"
   ]
  },
  {
   "cell_type": "code",
   "execution_count": 8,
   "metadata": {},
   "outputs": [],
   "source": [
    "images    = ['em_barrel_Lr0',  'em_barrel_Lr1', 'em_barrel_Lr2', 'em_barrel_Lr3',\n",
    "             'tile_barrel_Lr1', 'tile_barrel_Lr2', 'tile_barrel_Lr3']\n",
    "#images    = ['em_barrel_Lr1_fine']\n",
    "tracks    = ['tracks' ]\n",
    "scalars   = ['p_Eratio', 'p_Reta', 'p_Rhad', 'p_Rphi', 'p_TRTPID', 'p_d0', 'p_d0Sig', 'p_dPOverP',\n",
    "             'p_deltaPhiRescaled2', 'p_deltaEta1', 'p_f1', 'p_f3', 'p_numberOfSCTHits', 'p_weta2']\n",
    "others    = ['p_TruthType', 'p_iffTruth', 'p_LHTight', 'p_LHMedium', 'p_LHLoose', 'p_e']\n",
    "#train_features = {'images':images, 'tracks':tracks, 'scalars':scalars}\n",
    "train_features = {'images':images, 'tracks':[], 'scalars':[]}\n",
    "all_features   = np.sum(list(train_features.values())) + others\n",
    "if train_features['images'] == []: args.n_type = 'FCN'"
   ]
  },
  {
   "cell_type": "code",
   "execution_count": 9,
   "metadata": {},
   "outputs": [
    {
     "data": {
      "text/plain": [
       "12790923264"
      ]
     },
     "execution_count": 9,
     "metadata": {},
     "output_type": "execute_result"
    }
   ],
   "source": [
    "torch.cuda.get_device_properties(device=None).total_memory"
   ]
  },
  {
   "cell_type": "code",
   "execution_count": 10,
   "metadata": {},
   "outputs": [],
   "source": [
    "data_file = './el_data2.h5'"
   ]
  },
  {
   "cell_type": "code",
   "execution_count": 11,
   "metadata": {},
   "outputs": [],
   "source": [
    "# n_e = 1000000\n",
    "n_e = 146400\n",
    "xtrain_data = make_sample(data_file, n_e, all_features, train_features['images'], upscale=False)"
   ]
  },
  {
   "cell_type": "code",
   "execution_count": 12,
   "metadata": {},
   "outputs": [],
   "source": [
    "train_data = [ np.expand_dims(np.float32(xtrain_data[key]),axis = 1)  for key in np.sum(list(train_features.values()))]\n",
    "#train_data = [np.float32(train_data[key])[:,np.newaxis,:,:]  for key in np.sum(list(train_features.values()))]\n",
    "#train_data = [np.float32(train_data[key]) for key in np.sum(list(train_features.values()))]"
   ]
  },
  {
   "cell_type": "code",
   "execution_count": 13,
   "metadata": {},
   "outputs": [
    {
     "name": "stdout",
     "output_type": "stream",
     "text": [
      "(146400, 1, 7, 11)\n",
      "(146400, 1, 7, 11)\n",
      "(146400, 1, 7, 11)\n",
      "(146400, 1, 7, 11)\n",
      "(146400, 1, 7, 11)\n",
      "(146400, 1, 7, 11)\n",
      "(146400, 1, 7, 11)\n"
     ]
    }
   ],
   "source": [
    "for element in train_data:\n",
    "    print(element.shape)"
   ]
  },
  {
   "cell_type": "code",
   "execution_count": null,
   "metadata": {},
   "outputs": [],
   "source": []
  },
  {
   "cell_type": "code",
   "execution_count": null,
   "metadata": {},
   "outputs": [],
   "source": []
  },
  {
   "cell_type": "code",
   "execution_count": 14,
   "metadata": {},
   "outputs": [
    {
     "name": "stdout",
     "output_type": "stream",
     "text": [
      "(146400, 7, 7, 11)\n"
     ]
    }
   ],
   "source": [
    "x = np.concatenate(train_data, axis=1)\n",
    "print(x.shape)"
   ]
  },
  {
   "cell_type": "code",
   "execution_count": 15,
   "metadata": {},
   "outputs": [],
   "source": [
    "def make_labels(data, n_classes):\n",
    "    if   n_classes == 2:\n",
    "        labels = np.where(np.logical_or(data['p_TruthType']==2, data['p_TruthType']==4), 0, 1)\n",
    "    elif n_classes == 5:\n",
    "        truth  = data['p_iffTruth']\n",
    "        labels = np.where(truth==2, 0, 4     )\n",
    "        labels = np.where(truth==3, 1, labels)\n",
    "        labels = np.where(np.logical_or (truth==1, truth==10), 2, labels)\n",
    "        labels = np.where(np.logical_and(truth>=7, truth<= 9), 3, labels)\n",
    "    elif n_classes == 9:\n",
    "        labels = data['p_iffTruth']\n",
    "        labels = np.where(labels== 9, 4, labels)\n",
    "        labels = np.where(labels==10, 6, labels)\n",
    "    else:\n",
    "        print('\\nCLASSIFIER:', n_classes, 'classes not supported -> exiting program\\n')\n",
    "        sys.exit()\n",
    "    return labels"
   ]
  },
  {
   "cell_type": "code",
   "execution_count": 16,
   "metadata": {},
   "outputs": [
    {
     "name": "stdout",
     "output_type": "stream",
     "text": [
      "(146400,)\n"
     ]
    }
   ],
   "source": [
    "n_classes = 2\n",
    "y = make_labels(xtrain_data, n_classes)\n",
    "print(y.shape)"
   ]
  },
  {
   "cell_type": "code",
   "execution_count": 17,
   "metadata": {},
   "outputs": [],
   "source": [
    "del xtrain_data\n",
    "del train_data"
   ]
  },
  {
   "cell_type": "code",
   "execution_count": null,
   "metadata": {},
   "outputs": [],
   "source": []
  },
  {
   "cell_type": "code",
   "execution_count": 18,
   "metadata": {},
   "outputs": [],
   "source": [
    "#from torch.utils.data import DataLoader, random_split"
   ]
  },
  {
   "cell_type": "code",
   "execution_count": 19,
   "metadata": {},
   "outputs": [],
   "source": [
    "#train_ds, val_ds = random_split(x, [90000, 10000])\n",
    "#len(train_ds), len(val_ds)"
   ]
  },
  {
   "cell_type": "code",
   "execution_count": null,
   "metadata": {},
   "outputs": [],
   "source": []
  },
  {
   "cell_type": "code",
   "execution_count": 20,
   "metadata": {},
   "outputs": [],
   "source": [
    "x -= np.mean(x, axis=0)\n",
    "x /= np.std(x, axis=0)\n",
    "shuffle_idx = np.random.permutation(x.shape[0])\n",
    "x = x[shuffle_idx]\n",
    "y = y[shuffle_idx]"
   ]
  },
  {
   "cell_type": "code",
   "execution_count": 21,
   "metadata": {},
   "outputs": [],
   "source": [
    "#x /= 0.0052  bu 56 x 11 imageler için geçerli"
   ]
  },
  {
   "cell_type": "code",
   "execution_count": 22,
   "metadata": {},
   "outputs": [],
   "source": [
    "train_frac = 0.9\n",
    "idx = int(train_frac * len(x))\n",
    "x_train, x_test = x[:idx], x[idx:]\n",
    "y_train, y_test = y[:idx], y[idx:]"
   ]
  },
  {
   "cell_type": "code",
   "execution_count": null,
   "metadata": {},
   "outputs": [],
   "source": []
  },
  {
   "cell_type": "code",
   "execution_count": 23,
   "metadata": {},
   "outputs": [],
   "source": [
    "## Hyperparameters\n",
    "#num_epochs=20\n",
    "num_epochs=10\n",
    "#num_classes=10\n",
    "nw=0\n",
    "bs1=5000\n",
    "bs2=5000\n",
    "#bs=64\n",
    "wd=1e-5\n",
    "lr=1e-5\n",
    "momentum=0.9"
   ]
  },
  {
   "cell_type": "code",
   "execution_count": 24,
   "metadata": {},
   "outputs": [],
   "source": [
    "train_tensor_x = torch.stack([torch.Tensor(i) for i in x_train])\n",
    "train_tensor_y = torch.stack([torch.zeros([1])+i for i in y_train])\n",
    "train_tensor_y = train_tensor_y.type(torch.long).squeeze(1)\n",
    "#train_tensor_ycpu = train_tensor_y.to('cpu')\n",
    "#train_tensor_xcpu = train_tensor_x.to('cpu')"
   ]
  },
  {
   "cell_type": "code",
   "execution_count": 25,
   "metadata": {},
   "outputs": [
    {
     "name": "stdout",
     "output_type": "stream",
     "text": [
      "\u001b[1;33m tensor_x type: \u001b[1;m torch.FloatTensor\n",
      "\u001b[1;35m tensor_x dtype: \u001b[1;m torch.float32\n",
      "\u001b[1;36m tensor_x num of dims: \u001b[1;m 4\n",
      "\u001b[1;34m tensor_x Shape:\u001b[1;m torch.Size([131760, 7, 7, 11])\n",
      "\u001b[1;33m tensor_y type: \u001b[1;m torch.LongTensor\n",
      "\u001b[1;35m tensor_y dtype: \u001b[1;m torch.int64\n",
      "\u001b[1;36m tensor_y num of dims: \u001b[1;m 1\n",
      "\u001b[1;34m tensor_y Shape:\u001b[1;m torch.Size([131760])\n"
     ]
    }
   ],
   "source": [
    "print('\\033[1;33m tensor_x type: \\033[1;m', train_tensor_x.type())\n",
    "print('\\033[1;35m tensor_x dtype: \\033[1;m', train_tensor_x.dtype)\n",
    "print('\\033[1;36m tensor_x num of dims: \\033[1;m', train_tensor_x.dim())\n",
    "print('\\033[1;34m tensor_x Shape:\\033[1;m', train_tensor_x.shape)\n",
    "print('\\033[1;33m tensor_y type: \\033[1;m', train_tensor_y.type())\n",
    "print('\\033[1;35m tensor_y dtype: \\033[1;m', train_tensor_y.dtype)\n",
    "print('\\033[1;36m tensor_y num of dims: \\033[1;m', train_tensor_y.dim())\n",
    "print('\\033[1;34m tensor_y Shape:\\033[1;m', train_tensor_y.shape)"
   ]
  },
  {
   "cell_type": "code",
   "execution_count": 26,
   "metadata": {},
   "outputs": [],
   "source": [
    "del x_train\n",
    "del y_train"
   ]
  },
  {
   "cell_type": "code",
   "execution_count": 27,
   "metadata": {},
   "outputs": [],
   "source": [
    "test_tensor_x = torch.stack([torch.Tensor(i) for i in x_test])\n",
    "test_tensor_y = torch.stack([torch.zeros([1])+i for i in y_test])\n",
    "test_tensor_y = test_tensor_y.type(torch.long).squeeze(1)\n",
    "#test_tensor_ycpu = test_tensor_y.to('cpu')\n",
    "#test_tensor_xcpu = test_tensor_x.to('cpu')"
   ]
  },
  {
   "cell_type": "code",
   "execution_count": 28,
   "metadata": {},
   "outputs": [],
   "source": [
    "del x_test\n",
    "del y_test"
   ]
  },
  {
   "cell_type": "code",
   "execution_count": 29,
   "metadata": {},
   "outputs": [],
   "source": [
    "#torch.cuda.empty_cache()"
   ]
  },
  {
   "cell_type": "code",
   "execution_count": 30,
   "metadata": {},
   "outputs": [
    {
     "name": "stdout",
     "output_type": "stream",
     "text": [
      "\u001b[1;33m tensor_x type: \u001b[1;m torch.FloatTensor\n",
      "\u001b[1;35m tensor_x dtype: \u001b[1;m torch.float32\n",
      "\u001b[1;36m tensor_x num of dims: \u001b[1;m 4\n",
      "\u001b[1;34m tensor_x Shape:\u001b[1;m torch.Size([14640, 7, 7, 11])\n",
      "\u001b[1;33m tensor_x type: \u001b[1;m torch.LongTensor\n",
      "\u001b[1;35m tensor_x dtype: \u001b[1;m torch.int64\n",
      "\u001b[1;36m tensor_x num of dims: \u001b[1;m 1\n",
      "\u001b[1;34m tensor_x Shape:\u001b[1;m torch.Size([14640])\n"
     ]
    }
   ],
   "source": [
    "print('\\033[1;33m tensor_x type: \\033[1;m', test_tensor_x.type())\n",
    "print('\\033[1;35m tensor_x dtype: \\033[1;m', test_tensor_x.dtype)\n",
    "print('\\033[1;36m tensor_x num of dims: \\033[1;m', test_tensor_x.dim())\n",
    "print('\\033[1;34m tensor_x Shape:\\033[1;m', test_tensor_x.shape)\n",
    "print('\\033[1;33m tensor_x type: \\033[1;m', test_tensor_y.type())\n",
    "print('\\033[1;35m tensor_x dtype: \\033[1;m', test_tensor_y.dtype)\n",
    "print('\\033[1;36m tensor_x num of dims: \\033[1;m', test_tensor_y.dim())\n",
    "print('\\033[1;34m tensor_x Shape:\\033[1;m', test_tensor_y.shape)"
   ]
  },
  {
   "cell_type": "code",
   "execution_count": 31,
   "metadata": {},
   "outputs": [],
   "source": [
    "train_transformer = transforms.Compose([transforms.ToTensor()])\n",
    "val_transformer = transforms.Compose([transforms.ToTensor()])"
   ]
  },
  {
   "cell_type": "code",
   "execution_count": 32,
   "metadata": {},
   "outputs": [],
   "source": [
    "train_tensor_x.transform=train_transformer\n",
    "test_tensor_x.transform=val_transformer"
   ]
  },
  {
   "cell_type": "code",
   "execution_count": null,
   "metadata": {},
   "outputs": [],
   "source": []
  },
  {
   "cell_type": "code",
   "execution_count": null,
   "metadata": {},
   "outputs": [],
   "source": []
  },
  {
   "cell_type": "code",
   "execution_count": null,
   "metadata": {},
   "outputs": [],
   "source": []
  },
  {
   "cell_type": "code",
   "execution_count": 33,
   "metadata": {},
   "outputs": [],
   "source": [
    "#train_transformer = transforms.Compose(transforms.Normalize(mean=[0.485, 0.456, 0.406],\n",
    "#       std=[0.229, 0.224, 0.225]))\n",
    "#val_transformer = transforms.Compose([transforms.ToTensor()]transforms.Normalize(mean=[0.485, 0.456, 0.406],\n",
    "#                                  std=[0.229, 0.224, 0.225]))"
   ]
  },
  {
   "cell_type": "code",
   "execution_count": null,
   "metadata": {},
   "outputs": [],
   "source": []
  },
  {
   "cell_type": "code",
   "execution_count": null,
   "metadata": {},
   "outputs": [],
   "source": []
  },
  {
   "cell_type": "code",
   "execution_count": 34,
   "metadata": {},
   "outputs": [],
   "source": [
    "train_dataset = torch.utils.data.TensorDataset(train_tensor_x, train_tensor_y) \n",
    "train_loader = torch.utils.data.DataLoader(dataset=train_dataset, batch_size=bs1, num_workers=nw, shuffle=True) \n",
    "valid_dataset = torch.utils.data.TensorDataset(test_tensor_x, test_tensor_y) \n",
    "valid_loader = torch.utils.data.DataLoader(dataset=valid_dataset, batch_size=bs2, num_workers=nw, shuffle=False) \n",
    "\n",
    "#Burda shuffle true false vs gibi seçenekleri de alabiliriz\n",
    "#Number of workers'ı 0'den farklı alınca sorun çıkıyor çözemedim."
   ]
  },
  {
   "cell_type": "code",
   "execution_count": null,
   "metadata": {},
   "outputs": [],
   "source": []
  },
  {
   "cell_type": "code",
   "execution_count": 35,
   "metadata": {},
   "outputs": [
    {
     "data": {
      "text/plain": [
       "(tensor(0.0002), tensor(1.0060))"
      ]
     },
     "execution_count": 35,
     "metadata": {},
     "output_type": "execute_result"
    }
   ],
   "source": [
    "loader = torch.utils.data.DataLoader(train_dataset, batch_size=len(train_tensor_x), num_workers=1)\n",
    "data = next(iter(loader))\n",
    "data[0].mean(), data[0].std()"
   ]
  },
  {
   "cell_type": "code",
   "execution_count": 36,
   "metadata": {},
   "outputs": [],
   "source": [
    "#for xb, yb in valid_loader:\n",
    "#    print('xb.device:', xb.device)\n",
    "#    print('yb:', yb)\n",
    "#    print(xb.shape)\n",
    "#    print(yb.shape)    \n",
    "#    break"
   ]
  },
  {
   "cell_type": "code",
   "execution_count": 37,
   "metadata": {},
   "outputs": [],
   "source": [
    "from torchvision.utils import make_grid\n",
    "import matplotlib.pyplot as plt\n",
    "import torch.nn as nn\n",
    "import torch.nn.functional as F"
   ]
  },
  {
   "cell_type": "code",
   "execution_count": 38,
   "metadata": {},
   "outputs": [],
   "source": [
    "def get_default_device():\n",
    "    \"\"\"Pick GPU if available, else CPU\"\"\"\n",
    "    if torch.cuda.is_available():\n",
    "        return torch.device('cuda')\n",
    "    else:\n",
    "        return torch.device('cpu')\n",
    "    \n",
    "def to_device(data, device):\n",
    "    \"\"\"Move tensor(s) to chosen device\"\"\"\n",
    "    if isinstance(data, (list,tuple)):\n",
    "        return [to_device(x, device) for x in data]\n",
    "    return data.to(device, non_blocking=True)\n",
    "\n",
    "class DeviceDataLoader():\n",
    "    \"\"\"Wrap a dataloader to move data to a device\"\"\"\n",
    "    def __init__(self, dl, device):\n",
    "        self.dl = dl\n",
    "        self.device = device\n",
    "        \n",
    "    def __iter__(self):\n",
    "        \"\"\"Yield a batch of data after moving it to device\"\"\"\n",
    "        for b in self.dl: \n",
    "            yield to_device(b, self.device)\n",
    "\n",
    "    def __len__(self):\n",
    "        \"\"\"Number of batches\"\"\"\n",
    "        return len(self.dl)"
   ]
  },
  {
   "cell_type": "code",
   "execution_count": 39,
   "metadata": {},
   "outputs": [
    {
     "data": {
      "text/plain": [
       "device(type='cuda')"
      ]
     },
     "execution_count": 39,
     "metadata": {},
     "output_type": "execute_result"
    }
   ],
   "source": [
    "device = get_default_device()\n",
    "device"
   ]
  },
  {
   "cell_type": "code",
   "execution_count": 40,
   "metadata": {},
   "outputs": [],
   "source": [
    "train_loader = DeviceDataLoader(train_loader, device)\n",
    "valid_loader = DeviceDataLoader(valid_loader, device)"
   ]
  },
  {
   "cell_type": "code",
   "execution_count": 41,
   "metadata": {},
   "outputs": [],
   "source": [
    "class SimpleResidualBlock(nn.Module):\n",
    "    def __init__(self):\n",
    "        super().__init__()\n",
    "        self.conv1 = nn.Conv2d(in_channels=3, out_channels=3, kernel_size=3, stride=1, padding=1)\n",
    "        self.relu1 = nn.ReLU()\n",
    "        self.conv2 = nn.Conv2d(in_channels=3, out_channels=3, kernel_size=3, stride=1, padding=1)\n",
    "        self.relu2 = nn.ReLU()\n",
    "        \n",
    "    def forward(self, x):\n",
    "        out = self.conv1(x)\n",
    "        out = self.relu1(out)\n",
    "        out = self.conv2(out)\n",
    "        return self.relu2(out + x)  # ReLU can be applied before or after adding the input"
   ]
  },
  {
   "cell_type": "code",
   "execution_count": 42,
   "metadata": {},
   "outputs": [],
   "source": [
    "def conv_2d(ni, nf, stride=1, ks=3):\n",
    "    return nn.Conv2d(in_channels=ni, out_channels=nf, \n",
    "                     kernel_size=ks, stride=stride, \n",
    "                     padding=ks//2, bias=False)\n",
    "\n",
    "def bn_relu_conv(ni, nf):\n",
    "    return nn.Sequential(nn.BatchNorm2d(ni), \n",
    "                         nn.ReLU(inplace=True), \n",
    "                         conv_2d(ni, nf))\n",
    "\n",
    "class ResidualBlock(nn.Module):\n",
    "    def __init__(self, ni, nf, stride=1):\n",
    "        super().__init__()\n",
    "        self.bn = nn.BatchNorm2d(ni)\n",
    "        self.conv1 = conv_2d(ni, nf, stride)\n",
    "        self.conv2 = bn_relu_conv(nf, nf)\n",
    "        self.shortcut = lambda x: x\n",
    "        if ni != nf:\n",
    "            self.shortcut = conv_2d(ni, nf, stride, 1)\n",
    "    \n",
    "    def forward(self, x):\n",
    "        x = F.relu(self.bn(x), inplace=True)\n",
    "        r = self.shortcut(x)\n",
    "        x = self.conv1(x)\n",
    "        x = self.conv2(x) * 0.2\n",
    "        return x.add_(r)"
   ]
  },
  {
   "cell_type": "code",
   "execution_count": 43,
   "metadata": {},
   "outputs": [],
   "source": [
    "def accuracy(outputs, labels):\n",
    "    _, preds = torch.max(outputs, dim=1)\n",
    "    return torch.tensor(torch.sum(preds == labels).item() / len(preds))\n",
    "\n",
    "class ImageClassificationBase(nn.Module):\n",
    "    def training_step(self, batch):\n",
    "        images, labels = batch \n",
    "        out = self(images)                  # Generate predictions\n",
    "        loss = F.cross_entropy(out, labels) # Calculate loss\n",
    "        return loss\n",
    "    \n",
    "    def validation_step(self, batch):\n",
    "        images, labels = batch \n",
    "        out = self(images)                    # Generate predictions\n",
    "        loss = F.cross_entropy(out, labels)   # Calculate loss\n",
    "        acc = accuracy(out, labels)           # Calculate accuracy\n",
    "        return {'val_loss': loss.detach(), 'val_acc': acc}\n",
    "        \n",
    "    def validation_epoch_end(self, outputs):\n",
    "        batch_losses = [x['val_loss'] for x in outputs]\n",
    "        epoch_loss = torch.stack(batch_losses).mean()   # Combine losses\n",
    "        batch_accs = [x['val_acc'] for x in outputs]\n",
    "        epoch_acc = torch.stack(batch_accs).mean()      # Combine accuracies\n",
    "        return {'val_loss': epoch_loss.item(), 'val_acc': epoch_acc.item()}\n",
    "    \n",
    "    def epoch_end(self, epoch, result):\n",
    "        print(\"Epoch [{}], train_loss: {:.4f}, val_loss: {:.4f}, val_acc: {:.4f}\".format(\n",
    "            epoch, result['train_loss'], result['val_loss'], result['val_acc']))"
   ]
  },
  {
   "cell_type": "code",
   "execution_count": 44,
   "metadata": {},
   "outputs": [],
   "source": [
    "def make_group(N, ni, nf, stride):\n",
    "    start = ResidualBlock(ni, nf, stride)\n",
    "    rest = [ResidualBlock(nf, nf) for j in range(1, N)]\n",
    "    return [start] + rest\n",
    "\n",
    "class Flatten(nn.Module):\n",
    "    def __init__(self): super().__init__()\n",
    "    def forward(self, x): return x.view(x.size(0), -1)\n",
    "\n",
    "class WideResNet(ImageClassificationBase):\n",
    "    def __init__(self, n_groups, N, n_classes, k=1, n_start=16):\n",
    "        super().__init__()      \n",
    "        # Increase channels to n_start using conv layer\n",
    "        layers = [conv_2d(7, n_start)]\n",
    "        n_channels = [n_start]\n",
    "        \n",
    "        # Add groups of BasicBlock(increase channels & downsample)\n",
    "        for i in range(n_groups):\n",
    "            n_channels.append(n_start*(2**i)*k)\n",
    "            stride = 2 if i>0 else 1\n",
    "            layers += make_group(N, n_channels[i], \n",
    "                                 n_channels[i+1], stride)\n",
    "        \n",
    "        # Pool, flatten & add linear layer for classification\n",
    "        layers += [nn.BatchNorm2d(n_channels[3]), \n",
    "                   nn.ReLU(inplace=True), \n",
    "                   nn.AdaptiveAvgPool2d(1), \n",
    "                   Flatten(), \n",
    "                   nn.Linear(n_channels[3], n_classes)]\n",
    "        \n",
    "        self.features = nn.Sequential(*layers)\n",
    "        \n",
    "    def forward(self, x):\n",
    "        out = self.features(x)\n",
    "        return out"
   ]
  },
  {
   "cell_type": "code",
   "execution_count": 45,
   "metadata": {},
   "outputs": [],
   "source": [
    "model = to_device(WideResNet(n_groups=3, N=3, n_classes=2, k=6), device)"
   ]
  },
  {
   "cell_type": "code",
   "execution_count": 46,
   "metadata": {},
   "outputs": [
    {
     "name": "stdout",
     "output_type": "stream",
     "text": [
      "----------------------------------------------------------------\n",
      "        Layer (type)               Output Shape         Param #\n",
      "================================================================\n",
      "            Conv2d-1            [-1, 16, 7, 11]           1,008\n",
      "       BatchNorm2d-2            [-1, 16, 7, 11]              32\n",
      "            Conv2d-3            [-1, 96, 7, 11]           1,536\n",
      "            Conv2d-4            [-1, 96, 7, 11]          13,824\n",
      "       BatchNorm2d-5            [-1, 96, 7, 11]             192\n",
      "              ReLU-6            [-1, 96, 7, 11]               0\n",
      "            Conv2d-7            [-1, 96, 7, 11]          82,944\n",
      "     ResidualBlock-8            [-1, 96, 7, 11]               0\n",
      "       BatchNorm2d-9            [-1, 96, 7, 11]             192\n",
      "           Conv2d-10            [-1, 96, 7, 11]          82,944\n",
      "      BatchNorm2d-11            [-1, 96, 7, 11]             192\n",
      "             ReLU-12            [-1, 96, 7, 11]               0\n",
      "           Conv2d-13            [-1, 96, 7, 11]          82,944\n",
      "    ResidualBlock-14            [-1, 96, 7, 11]               0\n",
      "      BatchNorm2d-15            [-1, 96, 7, 11]             192\n",
      "           Conv2d-16            [-1, 96, 7, 11]          82,944\n",
      "      BatchNorm2d-17            [-1, 96, 7, 11]             192\n",
      "             ReLU-18            [-1, 96, 7, 11]               0\n",
      "           Conv2d-19            [-1, 96, 7, 11]          82,944\n",
      "    ResidualBlock-20            [-1, 96, 7, 11]               0\n",
      "      BatchNorm2d-21            [-1, 96, 7, 11]             192\n",
      "           Conv2d-22            [-1, 192, 4, 6]          18,432\n",
      "           Conv2d-23            [-1, 192, 4, 6]         165,888\n",
      "      BatchNorm2d-24            [-1, 192, 4, 6]             384\n",
      "             ReLU-25            [-1, 192, 4, 6]               0\n",
      "           Conv2d-26            [-1, 192, 4, 6]         331,776\n",
      "    ResidualBlock-27            [-1, 192, 4, 6]               0\n",
      "      BatchNorm2d-28            [-1, 192, 4, 6]             384\n",
      "           Conv2d-29            [-1, 192, 4, 6]         331,776\n",
      "      BatchNorm2d-30            [-1, 192, 4, 6]             384\n",
      "             ReLU-31            [-1, 192, 4, 6]               0\n",
      "           Conv2d-32            [-1, 192, 4, 6]         331,776\n",
      "    ResidualBlock-33            [-1, 192, 4, 6]               0\n",
      "      BatchNorm2d-34            [-1, 192, 4, 6]             384\n",
      "           Conv2d-35            [-1, 192, 4, 6]         331,776\n",
      "      BatchNorm2d-36            [-1, 192, 4, 6]             384\n",
      "             ReLU-37            [-1, 192, 4, 6]               0\n",
      "           Conv2d-38            [-1, 192, 4, 6]         331,776\n",
      "    ResidualBlock-39            [-1, 192, 4, 6]               0\n",
      "      BatchNorm2d-40            [-1, 192, 4, 6]             384\n",
      "           Conv2d-41            [-1, 384, 2, 3]          73,728\n",
      "           Conv2d-42            [-1, 384, 2, 3]         663,552\n",
      "      BatchNorm2d-43            [-1, 384, 2, 3]             768\n",
      "             ReLU-44            [-1, 384, 2, 3]               0\n",
      "           Conv2d-45            [-1, 384, 2, 3]       1,327,104\n",
      "    ResidualBlock-46            [-1, 384, 2, 3]               0\n",
      "      BatchNorm2d-47            [-1, 384, 2, 3]             768\n",
      "           Conv2d-48            [-1, 384, 2, 3]       1,327,104\n",
      "      BatchNorm2d-49            [-1, 384, 2, 3]             768\n",
      "             ReLU-50            [-1, 384, 2, 3]               0\n",
      "           Conv2d-51            [-1, 384, 2, 3]       1,327,104\n",
      "    ResidualBlock-52            [-1, 384, 2, 3]               0\n",
      "      BatchNorm2d-53            [-1, 384, 2, 3]             768\n",
      "           Conv2d-54            [-1, 384, 2, 3]       1,327,104\n",
      "      BatchNorm2d-55            [-1, 384, 2, 3]             768\n",
      "             ReLU-56            [-1, 384, 2, 3]               0\n",
      "           Conv2d-57            [-1, 384, 2, 3]       1,327,104\n",
      "    ResidualBlock-58            [-1, 384, 2, 3]               0\n",
      "      BatchNorm2d-59            [-1, 384, 2, 3]             768\n",
      "             ReLU-60            [-1, 384, 2, 3]               0\n",
      "AdaptiveAvgPool2d-61            [-1, 384, 1, 1]               0\n",
      "          Flatten-62                  [-1, 384]               0\n",
      "           Linear-63                    [-1, 2]             770\n",
      "================================================================\n",
      "Total params: 9,655,954\n",
      "Trainable params: 9,655,954\n",
      "Non-trainable params: 0\n",
      "----------------------------------------------------------------\n",
      "Input size (MB): 0.00\n",
      "Forward/backward pass size (MB): 2.12\n",
      "Params size (MB): 36.83\n",
      "Estimated Total Size (MB): 38.95\n",
      "----------------------------------------------------------------\n",
      "\n",
      "\n"
     ]
    }
   ],
   "source": [
    "summary(model, (7,7,11))\n",
    "print('\\n') "
   ]
  },
  {
   "cell_type": "code",
   "execution_count": 47,
   "metadata": {},
   "outputs": [],
   "source": [
    "@torch.no_grad()\n",
    "def evaluate(model, valid_loader):\n",
    "    model.eval()\n",
    "    outputs = [model.validation_step(batch) for batch in valid_loader]\n",
    "    return model.validation_epoch_end(outputs)\n",
    "\n",
    "def get_lr(optimizer):\n",
    "    for param_group in optimizer.param_groups:\n",
    "        return param_group['lr']\n",
    "\n",
    "def fit_one_cycle(epochs, max_lr, model, train_loader, valid_loader, \n",
    "                  weight_decay=0, grad_clip=None, opt_func=torch.optim.SGD):\n",
    "    torch.cuda.empty_cache()\n",
    "    history = []\n",
    "    \n",
    "    # Set up cutom optimizer with weight decay\n",
    "    optimizer = opt_func(model.parameters(), max_lr, weight_decay=weight_decay)\n",
    "    # Set up one-cycle learning rate scheduler\n",
    "    sched = torch.optim.lr_scheduler.OneCycleLR(optimizer, max_lr, epochs=epochs, \n",
    "                                                steps_per_epoch=len(train_loader))\n",
    "    \n",
    "    for epoch in range(epochs):\n",
    "        # Training Phase \n",
    "        model.train()\n",
    "        train_losses = []\n",
    "        lrs = []\n",
    "        for batch in train_loader:\n",
    "            loss = model.training_step(batch)\n",
    "            train_losses.append(loss)\n",
    "            loss.backward()\n",
    "            \n",
    "            # Gradient clipping\n",
    "            if grad_clip: \n",
    "                nn.utils.clip_grad_value_(model.parameters(), grad_clip)\n",
    "            \n",
    "            optimizer.step()\n",
    "            optimizer.zero_grad()\n",
    "            \n",
    "            # Record & update learning rate\n",
    "            lrs.append(get_lr(optimizer))\n",
    "            sched.step()\n",
    "        \n",
    "        # Validation phase\n",
    "        result = evaluate(model, valid_loader)\n",
    "        result['train_loss'] = torch.stack(train_losses).mean().item()\n",
    "        result['lrs'] = lrs\n",
    "        model.epoch_end(epoch, result)\n",
    "        history.append(result)\n",
    "    return history"
   ]
  },
  {
   "cell_type": "code",
   "execution_count": 48,
   "metadata": {},
   "outputs": [
    {
     "data": {
      "text/plain": [
       "[{'val_loss': 0.6907779574394226, 'val_acc': 0.6186850666999817}]"
      ]
     },
     "execution_count": 48,
     "metadata": {},
     "output_type": "execute_result"
    }
   ],
   "source": [
    "history = [evaluate(model, valid_loader)]\n",
    "history"
   ]
  },
  {
   "cell_type": "code",
   "execution_count": 49,
   "metadata": {},
   "outputs": [],
   "source": [
    "epochs = 100\n",
    "max_lr = 0.01\n",
    "grad_clip = 0.1\n",
    "weight_decay = 1e-4\n",
    "opt_func = torch.optim.Adam"
   ]
  },
  {
   "cell_type": "code",
   "execution_count": 50,
   "metadata": {},
   "outputs": [
    {
     "name": "stdout",
     "output_type": "stream",
     "text": [
      "Epoch [0], train_loss: 0.3263, val_loss: 0.3423, val_acc: 0.8875\n",
      "Epoch [1], train_loss: 0.2047, val_loss: 0.2118, val_acc: 0.9280\n",
      "Epoch [2], train_loss: 0.1934, val_loss: 0.2009, val_acc: 0.9303\n",
      "Epoch [3], train_loss: 0.1874, val_loss: 0.2245, val_acc: 0.9230\n",
      "Epoch [4], train_loss: 0.1831, val_loss: 0.2029, val_acc: 0.9312\n",
      "Epoch [5], train_loss: 0.1805, val_loss: 0.2091, val_acc: 0.9269\n",
      "Epoch [6], train_loss: 0.1759, val_loss: 0.2303, val_acc: 0.9204\n",
      "Epoch [7], train_loss: 0.1750, val_loss: 0.2346, val_acc: 0.9240\n",
      "Epoch [8], train_loss: 0.1697, val_loss: 0.2212, val_acc: 0.9273\n",
      "Epoch [9], train_loss: 0.1673, val_loss: 0.2229, val_acc: 0.9244\n",
      "Epoch [10], train_loss: 0.1646, val_loss: 0.2137, val_acc: 0.9259\n",
      "Epoch [11], train_loss: 0.1611, val_loss: 0.2695, val_acc: 0.9109\n",
      "Epoch [12], train_loss: 0.1561, val_loss: 0.2433, val_acc: 0.9190\n",
      "Epoch [13], train_loss: 0.1583, val_loss: 0.2171, val_acc: 0.9280\n",
      "Epoch [14], train_loss: 0.1536, val_loss: 0.2337, val_acc: 0.9217\n",
      "Epoch [15], train_loss: 0.1514, val_loss: 0.2253, val_acc: 0.9240\n",
      "Epoch [16], train_loss: 0.1502, val_loss: 0.2312, val_acc: 0.9174\n",
      "Epoch [17], train_loss: 0.1500, val_loss: 0.4623, val_acc: 0.7805\n",
      "Epoch [18], train_loss: 0.1476, val_loss: 0.5114, val_acc: 0.7398\n",
      "Epoch [19], train_loss: 0.1471, val_loss: 0.3215, val_acc: 0.8720\n",
      "Epoch [20], train_loss: 0.1456, val_loss: 0.2446, val_acc: 0.9240\n",
      "Epoch [21], train_loss: 0.1451, val_loss: 0.2283, val_acc: 0.9222\n",
      "Epoch [22], train_loss: 0.1461, val_loss: 0.2318, val_acc: 0.9267\n",
      "Epoch [23], train_loss: 0.1424, val_loss: 0.2481, val_acc: 0.9083\n",
      "Epoch [24], train_loss: 0.1426, val_loss: 0.2713, val_acc: 0.9208\n",
      "Epoch [25], train_loss: 0.1415, val_loss: 0.2308, val_acc: 0.9219\n",
      "Epoch [26], train_loss: 0.1444, val_loss: 0.2428, val_acc: 0.9195\n",
      "Epoch [27], train_loss: 0.1393, val_loss: 0.2371, val_acc: 0.9179\n",
      "Epoch [28], train_loss: 0.1390, val_loss: 0.2478, val_acc: 0.9166\n",
      "Epoch [29], train_loss: 0.1381, val_loss: 0.3014, val_acc: 0.8962\n",
      "Epoch [30], train_loss: 0.1349, val_loss: 0.3082, val_acc: 0.8799\n",
      "Epoch [31], train_loss: 0.1348, val_loss: 0.4652, val_acc: 0.8271\n",
      "Epoch [32], train_loss: 0.1338, val_loss: 0.2614, val_acc: 0.9097\n",
      "Epoch [33], train_loss: 0.1300, val_loss: 0.3957, val_acc: 0.8415\n",
      "Epoch [34], train_loss: 0.1314, val_loss: 0.3004, val_acc: 0.9015\n",
      "Epoch [35], train_loss: 0.1263, val_loss: 0.2819, val_acc: 0.9069\n",
      "Epoch [36], train_loss: 0.1255, val_loss: 0.2914, val_acc: 0.9204\n",
      "Epoch [37], train_loss: 0.1249, val_loss: 0.2789, val_acc: 0.9121\n",
      "Epoch [38], train_loss: 0.1198, val_loss: 0.3356, val_acc: 0.8916\n",
      "Epoch [39], train_loss: 0.1221, val_loss: 0.2699, val_acc: 0.9140\n",
      "Epoch [40], train_loss: 0.1159, val_loss: 0.2805, val_acc: 0.9143\n",
      "Epoch [41], train_loss: 0.1157, val_loss: 0.2765, val_acc: 0.9086\n",
      "Epoch [42], train_loss: 0.1136, val_loss: 0.3555, val_acc: 0.8853\n",
      "Epoch [43], train_loss: 0.1080, val_loss: 0.4324, val_acc: 0.8730\n",
      "Epoch [44], train_loss: 0.1099, val_loss: 0.2783, val_acc: 0.9233\n",
      "Epoch [45], train_loss: 0.1053, val_loss: 0.3901, val_acc: 0.8956\n",
      "Epoch [46], train_loss: 0.1028, val_loss: 0.3318, val_acc: 0.9158\n",
      "Epoch [47], train_loss: 0.1083, val_loss: 0.4210, val_acc: 0.8712\n",
      "Epoch [48], train_loss: 0.0948, val_loss: 0.3196, val_acc: 0.9213\n",
      "Epoch [49], train_loss: 0.0958, val_loss: 0.3091, val_acc: 0.9115\n",
      "Epoch [50], train_loss: 0.0954, val_loss: 0.4943, val_acc: 0.8585\n",
      "Epoch [51], train_loss: 0.0920, val_loss: 0.3201, val_acc: 0.9136\n",
      "Epoch [52], train_loss: 0.0883, val_loss: 0.3390, val_acc: 0.9183\n",
      "Epoch [53], train_loss: 0.0904, val_loss: 0.4502, val_acc: 0.8821\n",
      "Epoch [54], train_loss: 0.0929, val_loss: 0.3534, val_acc: 0.9044\n",
      "Epoch [55], train_loss: 0.0810, val_loss: 0.3881, val_acc: 0.9190\n",
      "Epoch [56], train_loss: 0.0794, val_loss: 0.3646, val_acc: 0.9195\n",
      "Epoch [57], train_loss: 0.0792, val_loss: 0.3999, val_acc: 0.9078\n",
      "Epoch [58], train_loss: 0.0762, val_loss: 0.3210, val_acc: 0.9223\n",
      "Epoch [59], train_loss: 0.0660, val_loss: 0.4250, val_acc: 0.9177\n",
      "Epoch [60], train_loss: 0.0669, val_loss: 0.4810, val_acc: 0.8671\n",
      "Epoch [61], train_loss: 0.0671, val_loss: 0.3475, val_acc: 0.9219\n",
      "Epoch [62], train_loss: 0.0625, val_loss: 0.4163, val_acc: 0.9120\n",
      "Epoch [63], train_loss: 0.0613, val_loss: 0.3857, val_acc: 0.9196\n",
      "Epoch [64], train_loss: 0.0540, val_loss: 0.5579, val_acc: 0.8671\n",
      "Epoch [65], train_loss: 0.0526, val_loss: 0.3923, val_acc: 0.9178\n",
      "Epoch [66], train_loss: 0.0468, val_loss: 0.5919, val_acc: 0.8738\n",
      "Epoch [67], train_loss: 0.0448, val_loss: 0.4562, val_acc: 0.9187\n",
      "Epoch [68], train_loss: 0.0431, val_loss: 0.4339, val_acc: 0.9099\n",
      "Epoch [69], train_loss: 0.0377, val_loss: 0.4822, val_acc: 0.9130\n",
      "Epoch [70], train_loss: 0.0377, val_loss: 0.4550, val_acc: 0.8998\n",
      "Epoch [71], train_loss: 0.0319, val_loss: 0.5059, val_acc: 0.9148\n",
      "Epoch [72], train_loss: 0.0305, val_loss: 0.4912, val_acc: 0.9154\n",
      "Epoch [73], train_loss: 0.0242, val_loss: 0.5340, val_acc: 0.9065\n",
      "Epoch [74], train_loss: 0.0207, val_loss: 0.4942, val_acc: 0.9131\n",
      "Epoch [75], train_loss: 0.0173, val_loss: 0.5279, val_acc: 0.9147\n",
      "Epoch [76], train_loss: 0.0165, val_loss: 0.5349, val_acc: 0.9137\n",
      "Epoch [77], train_loss: 0.0188, val_loss: 0.5386, val_acc: 0.9153\n",
      "Epoch [78], train_loss: 0.0147, val_loss: 0.5443, val_acc: 0.9160\n",
      "Epoch [79], train_loss: 0.0102, val_loss: 0.5571, val_acc: 0.9108\n",
      "Epoch [80], train_loss: 0.0080, val_loss: 0.5684, val_acc: 0.9157\n",
      "Epoch [81], train_loss: 0.0061, val_loss: 0.5928, val_acc: 0.9136\n",
      "Epoch [82], train_loss: 0.0046, val_loss: 0.5995, val_acc: 0.9112\n",
      "Epoch [83], train_loss: 0.0028, val_loss: 0.5997, val_acc: 0.9153\n",
      "Epoch [84], train_loss: 0.0022, val_loss: 0.6507, val_acc: 0.9122\n",
      "Epoch [85], train_loss: 0.0017, val_loss: 0.6324, val_acc: 0.9187\n",
      "Epoch [86], train_loss: 0.0014, val_loss: 0.6355, val_acc: 0.9163\n",
      "Epoch [87], train_loss: 0.0009, val_loss: 0.6504, val_acc: 0.9145\n",
      "Epoch [88], train_loss: 0.0008, val_loss: 0.6522, val_acc: 0.9131\n",
      "Epoch [89], train_loss: 0.0006, val_loss: 0.6496, val_acc: 0.9150\n",
      "Epoch [90], train_loss: 0.0004, val_loss: 0.6710, val_acc: 0.9113\n",
      "Epoch [91], train_loss: 0.0003, val_loss: 0.6595, val_acc: 0.9136\n",
      "Epoch [92], train_loss: 0.0003, val_loss: 0.6511, val_acc: 0.9159\n",
      "Epoch [93], train_loss: 0.0002, val_loss: 0.6534, val_acc: 0.9155\n",
      "Epoch [94], train_loss: 0.0003, val_loss: 0.6574, val_acc: 0.9151\n",
      "Epoch [95], train_loss: 0.0003, val_loss: 0.6531, val_acc: 0.9161\n",
      "Epoch [96], train_loss: 0.0003, val_loss: 0.6598, val_acc: 0.9141\n",
      "Epoch [97], train_loss: 0.0003, val_loss: 0.6523, val_acc: 0.9165\n",
      "Epoch [98], train_loss: 0.0002, val_loss: 0.6525, val_acc: 0.9166\n",
      "Epoch [99], train_loss: 0.0002, val_loss: 0.6533, val_acc: 0.9160\n",
      "CPU times: user 27min 52s, sys: 12min 8s, total: 40min 1s\n",
      "Wall time: 39min 58s\n"
     ]
    }
   ],
   "source": [
    "%%time\n",
    "history += fit_one_cycle(epochs, max_lr, model, train_loader, valid_loader, \n",
    "                             grad_clip=grad_clip, \n",
    "                             weight_decay=weight_decay, \n",
    "                             opt_func=opt_func)"
   ]
  },
  {
   "cell_type": "code",
   "execution_count": 51,
   "metadata": {},
   "outputs": [],
   "source": [
    "def plot_accuracies(history):\n",
    "    accuracies = [x['val_acc'] for x in history]\n",
    "    plt.plot(accuracies, '-x')\n",
    "    plt.xlabel('epoch')\n",
    "    plt.ylabel('accuracy')\n",
    "    plt.title('Accuracy vs. No. of epochs');"
   ]
  },
  {
   "cell_type": "code",
   "execution_count": 52,
   "metadata": {},
   "outputs": [
    {
     "data": {
      "image/png": "[encoded data removed]",
      "text/plain": [
       "<Figure size 432x288 with 1 Axes>"
      ]
     },
     "metadata": {},
     "output_type": "display_data"
    }
   ],
   "source": [
    "plot_accuracies(history)"
   ]
  },
  {
   "cell_type": "code",
   "execution_count": 53,
   "metadata": {},
   "outputs": [],
   "source": [
    "def plot_losses(history):\n",
    "    train_losses = [x.get('train_loss') for x in history]\n",
    "    val_losses = [x['val_loss'] for x in history]\n",
    "    plt.plot(train_losses, '-bx')\n",
    "    plt.plot(val_losses, '-rx')\n",
    "    plt.xlabel('epoch')\n",
    "    plt.ylabel('loss')\n",
    "    plt.legend(['Training', 'Validation'])\n",
    "    plt.title('Loss vs. No. of epochs');"
   ]
  },
  {
   "cell_type": "code",
   "execution_count": 54,
   "metadata": {},
   "outputs": [
    {
     "data": {
      "image/png": "[encoded data removed]",
      "text/plain": [
       "<Figure size 432x288 with 1 Axes>"
      ]
     },
     "metadata": {},
     "output_type": "display_data"
    }
   ],
   "source": [
    "plot_losses(history)"
   ]
  },
  {
   "cell_type": "code",
   "execution_count": 55,
   "metadata": {},
   "outputs": [],
   "source": [
    "def plot_lrs(history):\n",
    "    lrs = np.concatenate([x.get('lrs', []) for x in history])\n",
    "    plt.plot(lrs)\n",
    "    plt.xlabel('Batch no.')\n",
    "    plt.ylabel('Learning rate')\n",
    "    plt.title('Learning Rate vs. Batch no.');"
   ]
  },
  {
   "cell_type": "code",
   "execution_count": null,
   "metadata": {},
   "outputs": [],
   "source": [
    "plot_lrs(history)"
   ]
  },
  {
   "cell_type": "code",
   "execution_count": null,
   "metadata": {},
   "outputs": [],
   "source": []
  },
  {
   "cell_type": "code",
   "execution_count": null,
   "metadata": {},
   "outputs": [],
   "source": [
    "torch.save(model.state_dict(), 'wide_resnet2.pth')"
   ]
  },
  {
   "cell_type": "code",
   "execution_count": null,
   "metadata": {},
   "outputs": [],
   "source": []
  }
 ],
 "metadata": {
  "kernelspec": {
   "display_name": "Python 3",
   "language": "python",
   "name": "python3"
  },
  "language_info": {
   "codemirror_mode": {
    "name": "ipython",
    "version": 3
   },
   "file_extension": ".py",
   "mimetype": "text/x-python",
   "name": "python",
   "nbconvert_exporter": "python",
   "pygments_lexer": "ipython3",
   "version": "3.6.3"
  }
 },
 "nbformat": 4,
 "nbformat_minor": 2
}
