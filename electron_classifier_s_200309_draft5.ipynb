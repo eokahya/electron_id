{
 "cells": [
  {
   "cell_type": "code",
   "execution_count": 1,
   "metadata": {},
   "outputs": [
    {
     "name": "stdout",
     "output_type": "stream",
     "text": [
      "3.6.3\n",
      "1.5.0\n"
     ]
    }
   ],
   "source": [
    "## Import libraries\n",
    "\n",
    "from platform import python_version\n",
    "print(python_version())\n",
    "import torch\n",
    "print(torch.__version__)\n",
    "import torchvision\n",
    "import torchvision.transforms as transforms\n",
    "import torch.optim as optim\n",
    "import torch.utils.data as utils\n",
    "import torch.nn as nn\n",
    "import torch.nn.functional as F\n",
    "\n",
    "from torchsummary import summary\n",
    "\n",
    "import numpy as np\n",
    "import matplotlib.pyplot as plt\n",
    "import h5py as h5\n",
    "\n",
    "import time\n",
    "import seaborn as sns\n",
    "import os\n",
    "import matplotlib.pyplot as plt\n",
    "import matplotlib.colors as colors\n",
    "from   matplotlib import pylab\n",
    "sns.set_style(\"whitegrid\")\n",
    "np.random.seed(697)\n",
    "\n",
    "from sklearn            import preprocessing\n",
    "from sklearn            import metrics\n",
    "from sklearn.metrics    import confusion_matrix, accuracy_score, roc_curve, auc, roc_auc_score\n",
    "from sklearn.datasets   import make_classification\n",
    "from sklearn.neighbors  import KNeighborsClassifier\n",
    "from sklearn.ensemble   import RandomForestClassifier\n",
    "from sklearn.model_selection import train_test_split\n",
    "\n",
    "import warnings\n",
    "warnings.filterwarnings(\"ignore\")"
   ]
  },
  {
   "cell_type": "code",
   "execution_count": 2,
   "metadata": {},
   "outputs": [],
   "source": [
    "DATA_DIR = ''\n",
    "#if torch.cuda.is_available():   \n",
    "#    torch.set_default_tensor_type('torch.cuda.FloatTensor')\n",
    "#def to_numpy(tensor):\n",
    "#    '''converts a GPU tensor to a numpy array'''\n",
    "#    return tensor.cpu().detach().numpy()\n",
    "\n",
    "# Bunu bu aşamada yapmıyoruz. Sebebi data'yı cpu'da oluşturup sonra batch batch to.device ile gpu'ya aktaracağız."
   ]
  },
  {
   "cell_type": "code",
   "execution_count": 3,
   "metadata": {},
   "outputs": [
    {
     "name": "stdout",
     "output_type": "stream",
     "text": [
      "\u001b[1;35m Key name:\u001b[1;m ['em_barrel_Lr0', 'em_barrel_Lr1', 'em_barrel_Lr1_fine', 'em_barrel_Lr2', 'em_barrel_Lr3', 'eventNumber', 'mcChannelNumber', 'p_ECIDSResult', 'p_Eratio', 'p_LHLoose', 'p_LHMedium', 'p_LHTight', 'p_LHValue', 'p_Reta', 'p_Rhad', 'p_Rphi', 'p_TRTPID', 'p_TruthOrigin', 'p_TruthType', 'p_charge', 'p_chi2', 'p_d0', 'p_d0Sig', 'p_dPOverP', 'p_deltaEta1', 'p_deltaPhiRescaled2', 'p_e', 'p_et_calo', 'p_eta', 'p_f1', 'p_f3', 'p_firstEgMotherTruthOrigin', 'p_firstEgMotherTruthType', 'p_iffTruth', 'p_mean_charge', 'p_mean_chi2', 'p_mean_d0', 'p_mean_deta', 'p_mean_dphi', 'p_mean_efrac', 'p_mean_ndof', 'p_mean_pixhits', 'p_mean_scthits', 'p_mean_sigmad0', 'p_mean_trthits', 'p_mean_vertex', 'p_mean_z0', 'p_nTracks', 'p_ndof', 'p_numberOfSCTHits', 'p_phi', 'p_pt_track', 'p_qd0Sig', 'p_sct_weight_charge', 'p_sigmad0', 'p_tracks', 'p_truth_eta', 'p_truth_phi', 'p_truth_pt', 'p_weta2', 'tile_barrel_Lr1', 'tile_barrel_Lr2', 'tile_barrel_Lr3', 'tracks', 'true_m']\n"
     ]
    }
   ],
   "source": [
    "f = h5.File('./el_data.h5', 'r') ## gives group\n",
    "print('\\033[1;35m Key name:\\033[1;m', list(f.keys()))"
   ]
  },
  {
   "cell_type": "code",
   "execution_count": 4,
   "metadata": {},
   "outputs": [
    {
     "name": "stdout",
     "output_type": "stream",
     "text": [
      "['em_barrel_Lr0', 'em_barrel_Lr1', 'em_barrel_Lr1_fine', 'em_barrel_Lr2', 'em_barrel_Lr3', 'eventNumber', 'mcChannelNumber', 'p_ECIDSResult', 'p_Eratio', 'p_LHLoose', 'p_LHMedium', 'p_LHTight', 'p_LHValue', 'p_Reta', 'p_Rhad', 'p_Rphi', 'p_TRTPID', 'p_TruthOrigin', 'p_TruthType', 'p_charge', 'p_chi2', 'p_d0', 'p_d0Sig', 'p_dPOverP', 'p_deltaEta1', 'p_deltaPhiRescaled2', 'p_e', 'p_et_calo', 'p_eta', 'p_f1', 'p_f3', 'p_firstEgMotherTruthOrigin', 'p_firstEgMotherTruthType', 'p_iffTruth', 'p_mean_charge', 'p_mean_chi2', 'p_mean_d0', 'p_mean_deta', 'p_mean_dphi', 'p_mean_efrac', 'p_mean_ndof', 'p_mean_pixhits', 'p_mean_scthits', 'p_mean_sigmad0', 'p_mean_trthits', 'p_mean_vertex', 'p_mean_z0', 'p_nTracks', 'p_ndof', 'p_numberOfSCTHits', 'p_phi', 'p_pt_track', 'p_qd0Sig', 'p_sct_weight_charge', 'p_sigmad0', 'p_tracks', 'p_truth_eta', 'p_truth_phi', 'p_truth_pt', 'p_weta2', 'tile_barrel_Lr1', 'tile_barrel_Lr2', 'tile_barrel_Lr3', 'tracks', 'true_m']\n"
     ]
    }
   ],
   "source": [
    "file_name = h5.File('./el_data.h5', 'r') ## gives group\n",
    "keys = list(file_name.keys())\n",
    "print(keys)\n",
    "#print(list(file_name[keys[0]]))\n",
    "#print(list(file_name[keys[1]]))\n",
    "#print(list(file_name[list(file_name.keys())[0]])) ## or\n",
    "file_name.close()"
   ]
  },
  {
   "cell_type": "code",
   "execution_count": 5,
   "metadata": {},
   "outputs": [],
   "source": [
    "def traverse_datasets(hdf_file):\n",
    "\n",
    "    def h5_dataset_iterator(g, prefix=''):\n",
    "        for key in g.keys():\n",
    "            item = g[key]\n",
    "            path = f'{prefix}/{key}'\n",
    "            if isinstance(item, h5.Dataset): ## test for dataset\n",
    "                yield (path, item)\n",
    "            elif isinstance(item, h5.Group): ## test for group (go down)\n",
    "                yield from h5_dataset_iterator(item, path)\n",
    "\n",
    "    with h5.File(hdf_file, 'r') as f:\n",
    "        for path, _ in h5_dataset_iterator(f):\n",
    "            yield path"
   ]
  },
  {
   "cell_type": "code",
   "execution_count": 6,
   "metadata": {},
   "outputs": [
    {
     "name": "stdout",
     "output_type": "stream",
     "text": [
      "\u001b[1;35m Path:\u001b[1;m /em_barrel_Lr0\n",
      "\u001b[1;36m Shape:\u001b[1;m (14675640, 7, 11)\n",
      "\u001b[1;33m Data type:\u001b[1;m float16\n",
      "\n",
      "\n",
      "\u001b[1;35m Path:\u001b[1;m /em_barrel_Lr1\n",
      "\u001b[1;36m Shape:\u001b[1;m (14675640, 7, 11)\n",
      "\u001b[1;33m Data type:\u001b[1;m float16\n",
      "\n",
      "\n",
      "\u001b[1;35m Path:\u001b[1;m /em_barrel_Lr1_fine\n",
      "\u001b[1;36m Shape:\u001b[1;m (14675640, 56, 11)\n",
      "\u001b[1;33m Data type:\u001b[1;m float16\n",
      "\n",
      "\n",
      "\u001b[1;35m Path:\u001b[1;m /em_barrel_Lr2\n",
      "\u001b[1;36m Shape:\u001b[1;m (14675640, 7, 11)\n",
      "\u001b[1;33m Data type:\u001b[1;m float16\n",
      "\n",
      "\n",
      "\u001b[1;35m Path:\u001b[1;m /em_barrel_Lr3\n",
      "\u001b[1;36m Shape:\u001b[1;m (14675640, 7, 11)\n",
      "\u001b[1;33m Data type:\u001b[1;m float16\n",
      "\n",
      "\n",
      "\u001b[1;35m Path:\u001b[1;m /eventNumber\n",
      "\u001b[1;36m Shape:\u001b[1;m (14675640,)\n",
      "\u001b[1;33m Data type:\u001b[1;m int32\n",
      "\n",
      "\n",
      "\u001b[1;35m Path:\u001b[1;m /mcChannelNumber\n",
      "\u001b[1;36m Shape:\u001b[1;m (14675640,)\n",
      "\u001b[1;33m Data type:\u001b[1;m int32\n",
      "\n",
      "\n",
      "\u001b[1;35m Path:\u001b[1;m /p_ECIDSResult\n",
      "\u001b[1;36m Shape:\u001b[1;m (14675640,)\n",
      "\u001b[1;33m Data type:\u001b[1;m float16\n",
      "\n",
      "\n",
      "\u001b[1;35m Path:\u001b[1;m /p_Eratio\n",
      "\u001b[1;36m Shape:\u001b[1;m (14675640,)\n",
      "\u001b[1;33m Data type:\u001b[1;m float16\n",
      "\n",
      "\n",
      "\u001b[1;35m Path:\u001b[1;m /p_LHLoose\n",
      "\u001b[1;36m Shape:\u001b[1;m (14675640,)\n",
      "\u001b[1;33m Data type:\u001b[1;m int32\n",
      "\n",
      "\n",
      "\u001b[1;35m Path:\u001b[1;m /p_LHMedium\n",
      "\u001b[1;36m Shape:\u001b[1;m (14675640,)\n",
      "\u001b[1;33m Data type:\u001b[1;m int32\n",
      "\n",
      "\n",
      "\u001b[1;35m Path:\u001b[1;m /p_LHTight\n",
      "\u001b[1;36m Shape:\u001b[1;m (14675640,)\n",
      "\u001b[1;33m Data type:\u001b[1;m int32\n",
      "\n",
      "\n",
      "\u001b[1;35m Path:\u001b[1;m /p_LHValue\n",
      "\u001b[1;36m Shape:\u001b[1;m (14675640,)\n",
      "\u001b[1;33m Data type:\u001b[1;m float16\n",
      "\n",
      "\n",
      "\u001b[1;35m Path:\u001b[1;m /p_Reta\n",
      "\u001b[1;36m Shape:\u001b[1;m (14675640,)\n",
      "\u001b[1;33m Data type:\u001b[1;m float16\n",
      "\n",
      "\n",
      "\u001b[1;35m Path:\u001b[1;m /p_Rhad\n",
      "\u001b[1;36m Shape:\u001b[1;m (14675640,)\n",
      "\u001b[1;33m Data type:\u001b[1;m float16\n",
      "\n",
      "\n",
      "\u001b[1;35m Path:\u001b[1;m /p_Rphi\n",
      "\u001b[1;36m Shape:\u001b[1;m (14675640,)\n",
      "\u001b[1;33m Data type:\u001b[1;m float16\n",
      "\n",
      "\n",
      "\u001b[1;35m Path:\u001b[1;m /p_TRTPID\n",
      "\u001b[1;36m Shape:\u001b[1;m (14675640,)\n",
      "\u001b[1;33m Data type:\u001b[1;m float16\n",
      "\n",
      "\n",
      "\u001b[1;35m Path:\u001b[1;m /p_TruthOrigin\n",
      "\u001b[1;36m Shape:\u001b[1;m (14675640,)\n",
      "\u001b[1;33m Data type:\u001b[1;m int32\n",
      "\n",
      "\n",
      "\u001b[1;35m Path:\u001b[1;m /p_TruthType\n",
      "\u001b[1;36m Shape:\u001b[1;m (14675640,)\n",
      "\u001b[1;33m Data type:\u001b[1;m int32\n",
      "\n",
      "\n",
      "\u001b[1;35m Path:\u001b[1;m /p_charge\n",
      "\u001b[1;36m Shape:\u001b[1;m (14675640,)\n",
      "\u001b[1;33m Data type:\u001b[1;m int32\n",
      "\n",
      "\n",
      "\u001b[1;35m Path:\u001b[1;m /p_chi2\n",
      "\u001b[1;36m Shape:\u001b[1;m (14675640,)\n",
      "\u001b[1;33m Data type:\u001b[1;m float16\n",
      "\n",
      "\n",
      "\u001b[1;35m Path:\u001b[1;m /p_d0\n",
      "\u001b[1;36m Shape:\u001b[1;m (14675640,)\n",
      "\u001b[1;33m Data type:\u001b[1;m float16\n",
      "\n",
      "\n",
      "\u001b[1;35m Path:\u001b[1;m /p_d0Sig\n",
      "\u001b[1;36m Shape:\u001b[1;m (14675640,)\n",
      "\u001b[1;33m Data type:\u001b[1;m float16\n",
      "\n",
      "\n",
      "\u001b[1;35m Path:\u001b[1;m /p_dPOverP\n",
      "\u001b[1;36m Shape:\u001b[1;m (14675640,)\n",
      "\u001b[1;33m Data type:\u001b[1;m float16\n",
      "\n",
      "\n",
      "\u001b[1;35m Path:\u001b[1;m /p_deltaEta1\n",
      "\u001b[1;36m Shape:\u001b[1;m (14675640,)\n",
      "\u001b[1;33m Data type:\u001b[1;m float16\n",
      "\n",
      "\n",
      "\u001b[1;35m Path:\u001b[1;m /p_deltaPhiRescaled2\n",
      "\u001b[1;36m Shape:\u001b[1;m (14675640,)\n",
      "\u001b[1;33m Data type:\u001b[1;m float16\n",
      "\n",
      "\n",
      "\u001b[1;35m Path:\u001b[1;m /p_e\n",
      "\u001b[1;36m Shape:\u001b[1;m (14675640,)\n",
      "\u001b[1;33m Data type:\u001b[1;m float16\n",
      "\n",
      "\n",
      "\u001b[1;35m Path:\u001b[1;m /p_et_calo\n",
      "\u001b[1;36m Shape:\u001b[1;m (14675640,)\n",
      "\u001b[1;33m Data type:\u001b[1;m float16\n",
      "\n",
      "\n",
      "\u001b[1;35m Path:\u001b[1;m /p_eta\n",
      "\u001b[1;36m Shape:\u001b[1;m (14675640,)\n",
      "\u001b[1;33m Data type:\u001b[1;m float16\n",
      "\n",
      "\n",
      "\u001b[1;35m Path:\u001b[1;m /p_f1\n",
      "\u001b[1;36m Shape:\u001b[1;m (14675640,)\n",
      "\u001b[1;33m Data type:\u001b[1;m float16\n",
      "\n",
      "\n",
      "\u001b[1;35m Path:\u001b[1;m /p_f3\n",
      "\u001b[1;36m Shape:\u001b[1;m (14675640,)\n",
      "\u001b[1;33m Data type:\u001b[1;m float16\n",
      "\n",
      "\n",
      "\u001b[1;35m Path:\u001b[1;m /p_firstEgMotherTruthOrigin\n",
      "\u001b[1;36m Shape:\u001b[1;m (14675640,)\n",
      "\u001b[1;33m Data type:\u001b[1;m int32\n",
      "\n",
      "\n",
      "\u001b[1;35m Path:\u001b[1;m /p_firstEgMotherTruthType\n",
      "\u001b[1;36m Shape:\u001b[1;m (14675640,)\n",
      "\u001b[1;33m Data type:\u001b[1;m int32\n",
      "\n",
      "\n",
      "\u001b[1;35m Path:\u001b[1;m /p_iffTruth\n",
      "\u001b[1;36m Shape:\u001b[1;m (14675640,)\n",
      "\u001b[1;33m Data type:\u001b[1;m int32\n",
      "\n",
      "\n",
      "\u001b[1;35m Path:\u001b[1;m /p_mean_charge\n",
      "\u001b[1;36m Shape:\u001b[1;m (14675640,)\n",
      "\u001b[1;33m Data type:\u001b[1;m float16\n",
      "\n",
      "\n",
      "\u001b[1;35m Path:\u001b[1;m /p_mean_chi2\n",
      "\u001b[1;36m Shape:\u001b[1;m (14675640,)\n",
      "\u001b[1;33m Data type:\u001b[1;m float16\n",
      "\n",
      "\n",
      "\u001b[1;35m Path:\u001b[1;m /p_mean_d0\n",
      "\u001b[1;36m Shape:\u001b[1;m (14675640,)\n",
      "\u001b[1;33m Data type:\u001b[1;m float16\n",
      "\n",
      "\n",
      "\u001b[1;35m Path:\u001b[1;m /p_mean_deta\n",
      "\u001b[1;36m Shape:\u001b[1;m (14675640,)\n",
      "\u001b[1;33m Data type:\u001b[1;m float16\n",
      "\n",
      "\n",
      "\u001b[1;35m Path:\u001b[1;m /p_mean_dphi\n",
      "\u001b[1;36m Shape:\u001b[1;m (14675640,)\n",
      "\u001b[1;33m Data type:\u001b[1;m float16\n",
      "\n",
      "\n",
      "\u001b[1;35m Path:\u001b[1;m /p_mean_efrac\n",
      "\u001b[1;36m Shape:\u001b[1;m (14675640,)\n",
      "\u001b[1;33m Data type:\u001b[1;m float16\n",
      "\n",
      "\n",
      "\u001b[1;35m Path:\u001b[1;m /p_mean_ndof\n",
      "\u001b[1;36m Shape:\u001b[1;m (14675640,)\n",
      "\u001b[1;33m Data type:\u001b[1;m float16\n",
      "\n",
      "\n",
      "\u001b[1;35m Path:\u001b[1;m /p_mean_pixhits\n",
      "\u001b[1;36m Shape:\u001b[1;m (14675640,)\n",
      "\u001b[1;33m Data type:\u001b[1;m float16\n",
      "\n",
      "\n",
      "\u001b[1;35m Path:\u001b[1;m /p_mean_scthits\n",
      "\u001b[1;36m Shape:\u001b[1;m (14675640,)\n",
      "\u001b[1;33m Data type:\u001b[1;m float16\n",
      "\n",
      "\n",
      "\u001b[1;35m Path:\u001b[1;m /p_mean_sigmad0\n",
      "\u001b[1;36m Shape:\u001b[1;m (14675640,)\n",
      "\u001b[1;33m Data type:\u001b[1;m float16\n",
      "\n",
      "\n",
      "\u001b[1;35m Path:\u001b[1;m /p_mean_trthits\n",
      "\u001b[1;36m Shape:\u001b[1;m (14675640,)\n",
      "\u001b[1;33m Data type:\u001b[1;m float16\n",
      "\n",
      "\n",
      "\u001b[1;35m Path:\u001b[1;m /p_mean_vertex\n",
      "\u001b[1;36m Shape:\u001b[1;m (14675640,)\n",
      "\u001b[1;33m Data type:\u001b[1;m float16\n",
      "\n",
      "\n",
      "\u001b[1;35m Path:\u001b[1;m /p_mean_z0\n",
      "\u001b[1;36m Shape:\u001b[1;m (14675640,)\n",
      "\u001b[1;33m Data type:\u001b[1;m float16\n",
      "\n",
      "\n",
      "\u001b[1;35m Path:\u001b[1;m /p_nTracks\n",
      "\u001b[1;36m Shape:\u001b[1;m (14675640,)\n",
      "\u001b[1;33m Data type:\u001b[1;m int32\n",
      "\n",
      "\n",
      "\u001b[1;35m Path:\u001b[1;m /p_ndof\n",
      "\u001b[1;36m Shape:\u001b[1;m (14675640,)\n",
      "\u001b[1;33m Data type:\u001b[1;m float16\n",
      "\n",
      "\n",
      "\u001b[1;35m Path:\u001b[1;m /p_numberOfSCTHits\n",
      "\u001b[1;36m Shape:\u001b[1;m (14675640,)\n",
      "\u001b[1;33m Data type:\u001b[1;m int32\n",
      "\n",
      "\n",
      "\u001b[1;35m Path:\u001b[1;m /p_phi\n",
      "\u001b[1;36m Shape:\u001b[1;m (14675640,)\n",
      "\u001b[1;33m Data type:\u001b[1;m float16\n",
      "\n",
      "\n",
      "\u001b[1;35m Path:\u001b[1;m /p_pt_track\n",
      "\u001b[1;36m Shape:\u001b[1;m (14675640,)\n",
      "\u001b[1;33m Data type:\u001b[1;m float16\n",
      "\n",
      "\n",
      "\u001b[1;35m Path:\u001b[1;m /p_qd0Sig\n",
      "\u001b[1;36m Shape:\u001b[1;m (14675640,)\n",
      "\u001b[1;33m Data type:\u001b[1;m float16\n",
      "\n",
      "\n",
      "\u001b[1;35m Path:\u001b[1;m /p_sct_weight_charge\n",
      "\u001b[1;36m Shape:\u001b[1;m (14675640,)\n",
      "\u001b[1;33m Data type:\u001b[1;m float16\n",
      "\n",
      "\n",
      "\u001b[1;35m Path:\u001b[1;m /p_sigmad0\n",
      "\u001b[1;36m Shape:\u001b[1;m (14675640,)\n",
      "\u001b[1;33m Data type:\u001b[1;m float16\n",
      "\n",
      "\n",
      "\u001b[1;35m Path:\u001b[1;m /p_tracks\n",
      "\u001b[1;36m Shape:\u001b[1;m (14675640, 20, 13)\n",
      "\u001b[1;33m Data type:\u001b[1;m float16\n",
      "\n",
      "\n",
      "\u001b[1;35m Path:\u001b[1;m /p_truth_eta\n",
      "\u001b[1;36m Shape:\u001b[1;m (14675640,)\n",
      "\u001b[1;33m Data type:\u001b[1;m float16\n",
      "\n",
      "\n",
      "\u001b[1;35m Path:\u001b[1;m /p_truth_phi\n",
      "\u001b[1;36m Shape:\u001b[1;m (14675640,)\n",
      "\u001b[1;33m Data type:\u001b[1;m float16\n",
      "\n",
      "\n",
      "\u001b[1;35m Path:\u001b[1;m /p_truth_pt\n",
      "\u001b[1;36m Shape:\u001b[1;m (14675640,)\n",
      "\u001b[1;33m Data type:\u001b[1;m float16\n",
      "\n",
      "\n",
      "\u001b[1;35m Path:\u001b[1;m /p_weta2\n",
      "\u001b[1;36m Shape:\u001b[1;m (14675640,)\n",
      "\u001b[1;33m Data type:\u001b[1;m float16\n",
      "\n",
      "\n",
      "\u001b[1;35m Path:\u001b[1;m /tile_barrel_Lr1\n",
      "\u001b[1;36m Shape:\u001b[1;m (14675640, 7, 11)\n",
      "\u001b[1;33m Data type:\u001b[1;m float16\n",
      "\n",
      "\n",
      "\u001b[1;35m Path:\u001b[1;m /tile_barrel_Lr2\n",
      "\u001b[1;36m Shape:\u001b[1;m (14675640, 7, 11)\n",
      "\u001b[1;33m Data type:\u001b[1;m float16\n",
      "\n",
      "\n",
      "\u001b[1;35m Path:\u001b[1;m /tile_barrel_Lr3\n",
      "\u001b[1;36m Shape:\u001b[1;m (14675640, 7, 11)\n",
      "\u001b[1;33m Data type:\u001b[1;m float16\n",
      "\n",
      "\n",
      "\u001b[1;35m Path:\u001b[1;m /tracks\n",
      "\u001b[1;36m Shape:\u001b[1;m (14675640, 50, 5)\n",
      "\u001b[1;33m Data type:\u001b[1;m float16\n",
      "\n",
      "\n",
      "\u001b[1;35m Path:\u001b[1;m /true_m\n",
      "\u001b[1;36m Shape:\u001b[1;m (14675640,)\n",
      "\u001b[1;33m Data type:\u001b[1;m float16\n",
      "\n",
      "\n"
     ]
    }
   ],
   "source": [
    "with h5.File('./el_data.h5', 'r') as f:\n",
    "    for dset in traverse_datasets('./el_data.h5'):\n",
    "        \n",
    "        print('\\033[1;35m Path:\\033[1;m', dset)\n",
    "        \n",
    "        print('\\033[1;36m Shape:\\033[1;m', f[dset].shape)\n",
    "        \n",
    "        print('\\033[1;33m Data type:\\033[1;m', f[dset].dtype)\n",
    "        \n",
    "        print('\\n')"
   ]
  },
  {
   "cell_type": "code",
   "execution_count": 7,
   "metadata": {},
   "outputs": [],
   "source": [
    "def make_sample(data_file, batch_size, all_features, images, upscale=False, denormalize=False, index=0):\n",
    "    data = h5.File(data_file, 'r')\n",
    "    idx_1, idx_2 = index*batch_size, (index+1)*batch_size\n",
    "    sample_dict  = dict([key, data[key][idx_1:idx_2]] for key in all_features)\n",
    "    if images != [] and denormalize:\n",
    "        energy = sample_dict['p_e']\n",
    "        for key in images: sample_dict[key] = sample_dict[key] * energy[:, np.newaxis, np.newaxis]\n",
    "        sample_dict['tracks'][:,:,0] = sample_dict['tracks'][:,:,0] * energy[:, np.newaxis]\n",
    "    if images != [] and upscale:\n",
    "        for i in images: sample_dict[i] = resize_images(np.float32(sample_dict[i]), target_shape=(56,11))\n",
    "    return sample_dict"
   ]
  },
  {
   "cell_type": "code",
   "execution_count": 8,
   "metadata": {},
   "outputs": [],
   "source": [
    "images    = ['em_barrel_Lr0',  'em_barrel_Lr1', 'em_barrel_Lr2', 'em_barrel_Lr3',\n",
    "             'tile_barrel_Lr1', 'tile_barrel_Lr2', 'tile_barrel_Lr3']\n",
    "#images    = ['em_barrel_Lr1_fine'] This is the 56x11 pixel size image\n",
    "tracks    = ['tracks' ]\n",
    "scalars   = ['p_Eratio', 'p_Reta', 'p_Rhad', 'p_Rphi', 'p_TRTPID', 'p_d0', 'p_d0Sig', 'p_dPOverP',\n",
    "             'p_deltaPhiRescaled2', 'p_deltaEta1', 'p_f1', 'p_f3', 'p_numberOfSCTHits', 'p_weta2']\n",
    "others    = ['p_TruthType', 'p_iffTruth', 'p_LHTight', 'p_LHMedium', 'p_LHLoose', 'p_e']\n",
    "#train_features = {'images':images, 'tracks':tracks, 'scalars':scalars}\n",
    "train_features = {'images':images, 'tracks':[], 'scalars':[]}\n",
    "all_features   = np.sum(list(train_features.values())) + others\n",
    "if train_features['images'] == []: args.n_type = 'FCN'"
   ]
  },
  {
   "cell_type": "code",
   "execution_count": 9,
   "metadata": {},
   "outputs": [],
   "source": [
    "data_file = './el_data2.h5'"
   ]
  },
  {
   "cell_type": "code",
   "execution_count": 10,
   "metadata": {},
   "outputs": [],
   "source": [
    "# n_e = 14675640\n",
    "n_e = 3000000\n",
    "xtrain_data = make_sample(data_file, n_e, all_features, train_features['images'], upscale=False)"
   ]
  },
  {
   "cell_type": "code",
   "execution_count": 11,
   "metadata": {},
   "outputs": [],
   "source": [
    "train_data = [ np.expand_dims(np.float32(xtrain_data[key]),axis = 1)  for key in np.sum(list(train_features.values()))]\n",
    "#train_data = [np.float32(train_data[key])[:,np.newaxis,:,:]  for key in np.sum(list(train_features.values()))]\n",
    "#train_data = [np.float32(train_data[key]) for key in np.sum(list(train_features.values()))]"
   ]
  },
  {
   "cell_type": "code",
   "execution_count": 12,
   "metadata": {},
   "outputs": [
    {
     "name": "stdout",
     "output_type": "stream",
     "text": [
      "(3000000, 1, 7, 11)\n",
      "(3000000, 1, 7, 11)\n",
      "(3000000, 1, 7, 11)\n",
      "(3000000, 1, 7, 11)\n",
      "(3000000, 1, 7, 11)\n",
      "(3000000, 1, 7, 11)\n",
      "(3000000, 1, 7, 11)\n"
     ]
    }
   ],
   "source": [
    "for element in train_data:\n",
    "    print(element.shape)"
   ]
  },
  {
   "cell_type": "code",
   "execution_count": 13,
   "metadata": {},
   "outputs": [
    {
     "name": "stdout",
     "output_type": "stream",
     "text": [
      "(3000000, 7, 7, 11)\n"
     ]
    }
   ],
   "source": [
    "x = np.concatenate(train_data, axis=1)\n",
    "print(x.shape)"
   ]
  },
  {
   "cell_type": "code",
   "execution_count": 14,
   "metadata": {},
   "outputs": [],
   "source": [
    "def make_labels(data, n_classes):\n",
    "    if   n_classes == 2:\n",
    "        labels = np.where(np.logical_or(data['p_TruthType']==2, data['p_TruthType']==4), 0, 1)\n",
    "    elif n_classes == 5:\n",
    "        truth  = data['p_iffTruth']\n",
    "        labels = np.where(truth==2, 0, 4     )\n",
    "        labels = np.where(truth==3, 1, labels)\n",
    "        labels = np.where(np.logical_or (truth==1, truth==10), 2, labels)\n",
    "        labels = np.where(np.logical_and(truth>=7, truth<= 9), 3, labels)\n",
    "    elif n_classes == 9:\n",
    "        labels = data['p_iffTruth']\n",
    "        labels = np.where(labels== 9, 4, labels)\n",
    "        labels = np.where(labels==10, 6, labels)\n",
    "    else:\n",
    "        print('\\nCLASSIFIER:', n_classes, 'classes not supported -> exiting program\\n')\n",
    "        sys.exit()\n",
    "    return labels"
   ]
  },
  {
   "cell_type": "code",
   "execution_count": 15,
   "metadata": {},
   "outputs": [
    {
     "name": "stdout",
     "output_type": "stream",
     "text": [
      "(3000000,)\n"
     ]
    }
   ],
   "source": [
    "n_classes = 2\n",
    "y = make_labels(xtrain_data, n_classes)\n",
    "print(y.shape)"
   ]
  },
  {
   "cell_type": "code",
   "execution_count": 16,
   "metadata": {},
   "outputs": [],
   "source": [
    "x -= np.mean(x, axis=0)\n",
    "x /= np.std(x, axis=0)\n",
    "shuffle_idx = np.random.permutation(x.shape[0])\n",
    "x = x[shuffle_idx]\n",
    "y = y[shuffle_idx]"
   ]
  },
  {
   "cell_type": "code",
   "execution_count": 17,
   "metadata": {},
   "outputs": [],
   "source": [
    "train_frac = 0.9\n",
    "idx = int(train_frac * len(x))\n",
    "x_train, x_test = x[:idx], x[idx:]\n",
    "y_train, y_test = y[:idx], y[idx:]"
   ]
  },
  {
   "cell_type": "code",
   "execution_count": 18,
   "metadata": {},
   "outputs": [],
   "source": [
    "train_tensor_x = torch.stack([torch.Tensor(i) for i in x_train])\n",
    "train_tensor_y = torch.stack([torch.zeros([1])+i for i in y_train])\n",
    "train_tensor_y = train_tensor_y.type(torch.long).squeeze(1)\n",
    "#train_tensor_ycpu = train_tensor_y.to('cpu')\n",
    "#train_tensor_xcpu = train_tensor_x.to('cpu')"
   ]
  },
  {
   "cell_type": "code",
   "execution_count": 19,
   "metadata": {},
   "outputs": [
    {
     "name": "stdout",
     "output_type": "stream",
     "text": [
      "\u001b[1;33m tensor_x type: \u001b[1;m torch.FloatTensor\n",
      "\u001b[1;35m tensor_x dtype: \u001b[1;m torch.float32\n",
      "\u001b[1;36m tensor_x num of dims: \u001b[1;m 4\n",
      "\u001b[1;34m tensor_x Shape:\u001b[1;m torch.Size([2700000, 7, 7, 11])\n",
      "\u001b[1;33m tensor_y type: \u001b[1;m torch.LongTensor\n",
      "\u001b[1;35m tensor_y dtype: \u001b[1;m torch.int64\n",
      "\u001b[1;36m tensor_y num of dims: \u001b[1;m 1\n",
      "\u001b[1;34m tensor_y Shape:\u001b[1;m torch.Size([2700000])\n"
     ]
    }
   ],
   "source": [
    "print('\\033[1;33m tensor_x type: \\033[1;m', train_tensor_x.type())\n",
    "print('\\033[1;35m tensor_x dtype: \\033[1;m', train_tensor_x.dtype)\n",
    "print('\\033[1;36m tensor_x num of dims: \\033[1;m', train_tensor_x.dim())\n",
    "print('\\033[1;34m tensor_x Shape:\\033[1;m', train_tensor_x.shape)\n",
    "print('\\033[1;33m tensor_y type: \\033[1;m', train_tensor_y.type())\n",
    "print('\\033[1;35m tensor_y dtype: \\033[1;m', train_tensor_y.dtype)\n",
    "print('\\033[1;36m tensor_y num of dims: \\033[1;m', train_tensor_y.dim())\n",
    "print('\\033[1;34m tensor_y Shape:\\033[1;m', train_tensor_y.shape)"
   ]
  },
  {
   "cell_type": "code",
   "execution_count": 20,
   "metadata": {},
   "outputs": [],
   "source": [
    "test_tensor_x = torch.stack([torch.Tensor(i) for i in x_test])\n",
    "test_tensor_y = torch.stack([torch.zeros([1])+i for i in y_test])\n",
    "test_tensor_y = test_tensor_y.type(torch.long).squeeze(1)\n",
    "#test_tensor_ycpu = test_tensor_y.to('cpu')\n",
    "#test_tensor_xcpu = test_tensor_x.to('cpu')"
   ]
  },
  {
   "cell_type": "code",
   "execution_count": 21,
   "metadata": {},
   "outputs": [
    {
     "name": "stdout",
     "output_type": "stream",
     "text": [
      "\u001b[1;33m tensor_x type: \u001b[1;m torch.FloatTensor\n",
      "\u001b[1;35m tensor_x dtype: \u001b[1;m torch.float32\n",
      "\u001b[1;36m tensor_x num of dims: \u001b[1;m 4\n",
      "\u001b[1;34m tensor_x Shape:\u001b[1;m torch.Size([300000, 7, 7, 11])\n",
      "\u001b[1;33m tensor_x type: \u001b[1;m torch.LongTensor\n",
      "\u001b[1;35m tensor_x dtype: \u001b[1;m torch.int64\n",
      "\u001b[1;36m tensor_x num of dims: \u001b[1;m 1\n",
      "\u001b[1;34m tensor_x Shape:\u001b[1;m torch.Size([300000])\n"
     ]
    }
   ],
   "source": [
    "print('\\033[1;33m tensor_x type: \\033[1;m', test_tensor_x.type())\n",
    "print('\\033[1;35m tensor_x dtype: \\033[1;m', test_tensor_x.dtype)\n",
    "print('\\033[1;36m tensor_x num of dims: \\033[1;m', test_tensor_x.dim())\n",
    "print('\\033[1;34m tensor_x Shape:\\033[1;m', test_tensor_x.shape)\n",
    "print('\\033[1;33m tensor_x type: \\033[1;m', test_tensor_y.type())\n",
    "print('\\033[1;35m tensor_x dtype: \\033[1;m', test_tensor_y.dtype)\n",
    "print('\\033[1;36m tensor_x num of dims: \\033[1;m', test_tensor_y.dim())\n",
    "print('\\033[1;34m tensor_x Shape:\\033[1;m', test_tensor_y.shape)"
   ]
  },
  {
   "cell_type": "code",
   "execution_count": 22,
   "metadata": {},
   "outputs": [],
   "source": [
    "train_transformer = transforms.Compose([transforms.ToTensor()])\n",
    "val_transformer = transforms.Compose([transforms.ToTensor()])"
   ]
  },
  {
   "cell_type": "code",
   "execution_count": 23,
   "metadata": {},
   "outputs": [],
   "source": [
    "train_tensor_x.transform=train_transformer\n",
    "test_tensor_x.transform=val_transformer"
   ]
  },
  {
   "cell_type": "code",
   "execution_count": 24,
   "metadata": {},
   "outputs": [],
   "source": [
    "## Hyperparameters\n",
    "nw=3\n",
    "bs1=5000\n",
    "bs2=5000"
   ]
  },
  {
   "cell_type": "code",
   "execution_count": 25,
   "metadata": {},
   "outputs": [],
   "source": [
    "train_dataset = torch.utils.data.TensorDataset(train_tensor_x, train_tensor_y) \n",
    "train_loader = torch.utils.data.DataLoader(dataset=train_dataset, batch_size=bs1, num_workers=nw, shuffle=True) \n",
    "valid_dataset = torch.utils.data.TensorDataset(test_tensor_x, test_tensor_y) \n",
    "valid_loader = torch.utils.data.DataLoader(dataset=valid_dataset, batch_size=bs2, num_workers=nw, shuffle=False) "
   ]
  },
  {
   "cell_type": "code",
   "execution_count": 26,
   "metadata": {},
   "outputs": [],
   "source": [
    "def get_default_device():\n",
    "    \"\"\"Pick GPU if available, else CPU\"\"\"\n",
    "    if torch.cuda.is_available():\n",
    "        return torch.device('cuda')\n",
    "    else:\n",
    "        return torch.device('cpu')"
   ]
  },
  {
   "cell_type": "code",
   "execution_count": 27,
   "metadata": {},
   "outputs": [
    {
     "data": {
      "text/plain": [
       "device(type='cuda')"
      ]
     },
     "execution_count": 27,
     "metadata": {},
     "output_type": "execute_result"
    }
   ],
   "source": [
    "device = get_default_device()\n",
    "device"
   ]
  },
  {
   "cell_type": "code",
   "execution_count": 28,
   "metadata": {},
   "outputs": [],
   "source": [
    "def to_device(data, device):\n",
    "    \"\"\"Move tensor(s) to chosen device\"\"\"\n",
    "    if isinstance(data, (list,tuple)):\n",
    "        return [to_device(x, device) for x in data]\n",
    "    return data.to(device, non_blocking=True)"
   ]
  },
  {
   "cell_type": "code",
   "execution_count": 29,
   "metadata": {},
   "outputs": [],
   "source": [
    "class DeviceDataLoader():\n",
    "    \"\"\"Wrap a dataloader to move data to a device\"\"\"\n",
    "    def __init__(self, dl, device):\n",
    "        self.dl = dl\n",
    "        self.device = device\n",
    "        \n",
    "    def __iter__(self):\n",
    "        \"\"\"Yield a batch of data after moving it to device\"\"\"\n",
    "        for b in self.dl: \n",
    "            yield to_device(b, self.device)\n",
    "\n",
    "    def __len__(self):\n",
    "        \"\"\"Number of batches\"\"\"\n",
    "        return len(self.dl)"
   ]
  },
  {
   "cell_type": "code",
   "execution_count": 30,
   "metadata": {},
   "outputs": [],
   "source": [
    "train_loader = DeviceDataLoader(train_loader, device)\n",
    "valid_loader = DeviceDataLoader(valid_loader, device)"
   ]
  },
  {
   "cell_type": "code",
   "execution_count": 31,
   "metadata": {},
   "outputs": [],
   "source": [
    "from torchvision.utils import make_grid\n",
    "import matplotlib.pyplot as plt"
   ]
  },
  {
   "cell_type": "code",
   "execution_count": 32,
   "metadata": {},
   "outputs": [],
   "source": [
    "import torch.nn as nn\n",
    "import torch.nn.functional as F"
   ]
  },
  {
   "cell_type": "code",
   "execution_count": 33,
   "metadata": {},
   "outputs": [
    {
     "name": "stdout",
     "output_type": "stream",
     "text": [
      "Using device: cuda\n",
      "\n",
      "Tesla V100-SXM2-32GB\n",
      "Memory Usage:\n",
      "Allocated: 0.0 GB\n",
      "Cached:    0.0 GB\n"
     ]
    }
   ],
   "source": [
    "device = torch.device('cuda' if torch.cuda.is_available() else 'cpu')\n",
    "print('Using device:', device)\n",
    "print()\n",
    "\n",
    "#Additional Info when using cuda\n",
    "if device.type == 'cuda':\n",
    "    print(torch.cuda.get_device_name(0))\n",
    "    print('Memory Usage:')\n",
    "    print('Allocated:', round(torch.cuda.memory_allocated(0)/1024**3,1), 'GB')\n",
    "    print('Cached:   ', round(torch.cuda.memory_cached(0)/1024**3,1), 'GB')"
   ]
  },
  {
   "cell_type": "markdown",
   "metadata": {},
   "source": [
    "# Resnet Style Networks"
   ]
  },
  {
   "cell_type": "code",
   "execution_count": 34,
   "metadata": {},
   "outputs": [],
   "source": [
    "class SimpleResidualBlock(nn.Module):\n",
    "    def __init__(self):\n",
    "        super().__init__()\n",
    "        self.conv1 = nn.Conv2d(in_channels=3, out_channels=3, kernel_size=3, stride=1, padding=1)\n",
    "        self.relu1 = nn.ReLU()\n",
    "        self.conv2 = nn.Conv2d(in_channels=3, out_channels=3, kernel_size=3, stride=1, padding=1)\n",
    "        self.relu2 = nn.ReLU()\n",
    "        \n",
    "    def forward(self, x):\n",
    "        out = self.conv1(x)\n",
    "        out = self.relu1(out)\n",
    "        out = self.conv2(out)\n",
    "        return self.relu2(out + x)"
   ]
  },
  {
   "cell_type": "code",
   "execution_count": 35,
   "metadata": {},
   "outputs": [],
   "source": [
    "def conv_2d(ni, nf, stride=1, ks=3):\n",
    "    return nn.Conv2d(in_channels=ni, out_channels=nf, \n",
    "                     kernel_size=ks, stride=stride, \n",
    "                     padding=ks//2, bias=False)\n",
    "\n",
    "def bn_relu_conv(ni, nf):\n",
    "    return nn.Sequential(nn.BatchNorm2d(ni), \n",
    "                         nn.ReLU(inplace=True), \n",
    "                         conv_2d(ni, nf))\n",
    "\n",
    "class ResidualBlock(nn.Module):\n",
    "    def __init__(self, ni, nf, stride=1):\n",
    "        super().__init__()\n",
    "        self.bn = nn.BatchNorm2d(ni)\n",
    "        self.conv1 = conv_2d(ni, nf, stride)\n",
    "        self.conv2 = bn_relu_conv(nf, nf)\n",
    "        self.shortcut = lambda x: x\n",
    "        if ni != nf:\n",
    "            self.shortcut = conv_2d(ni, nf, stride, 1)\n",
    "    \n",
    "    def forward(self, x):\n",
    "        x = F.relu(self.bn(x), inplace=True)\n",
    "        r = self.shortcut(x)\n",
    "        x = self.conv1(x)\n",
    "        x = self.conv2(x) * 0.2\n",
    "        return x.add_(r)"
   ]
  },
  {
   "cell_type": "code",
   "execution_count": 36,
   "metadata": {},
   "outputs": [
    {
     "name": "stdout",
     "output_type": "stream",
     "text": [
      "----------------------------------------------------------------\n",
      "        Layer (type)               Output Shape         Param #\n",
      "================================================================\n",
      "            Conv2d-1            [-1, 16, 7, 11]           1,008\n",
      "       BatchNorm2d-2            [-1, 16, 7, 11]              32\n",
      "            Conv2d-3            [-1, 96, 7, 11]           1,536\n",
      "            Conv2d-4            [-1, 96, 7, 11]          13,824\n",
      "       BatchNorm2d-5            [-1, 96, 7, 11]             192\n",
      "              ReLU-6            [-1, 96, 7, 11]               0\n",
      "            Conv2d-7            [-1, 96, 7, 11]          82,944\n",
      "     ResidualBlock-8            [-1, 96, 7, 11]               0\n",
      "       BatchNorm2d-9            [-1, 96, 7, 11]             192\n",
      "           Conv2d-10            [-1, 96, 7, 11]          82,944\n",
      "      BatchNorm2d-11            [-1, 96, 7, 11]             192\n",
      "             ReLU-12            [-1, 96, 7, 11]               0\n",
      "           Conv2d-13            [-1, 96, 7, 11]          82,944\n",
      "    ResidualBlock-14            [-1, 96, 7, 11]               0\n",
      "      BatchNorm2d-15            [-1, 96, 7, 11]             192\n",
      "           Conv2d-16            [-1, 96, 7, 11]          82,944\n",
      "      BatchNorm2d-17            [-1, 96, 7, 11]             192\n",
      "             ReLU-18            [-1, 96, 7, 11]               0\n",
      "           Conv2d-19            [-1, 96, 7, 11]          82,944\n",
      "    ResidualBlock-20            [-1, 96, 7, 11]               0\n",
      "      BatchNorm2d-21            [-1, 96, 7, 11]             192\n",
      "           Conv2d-22            [-1, 192, 4, 6]          18,432\n",
      "           Conv2d-23            [-1, 192, 4, 6]         165,888\n",
      "      BatchNorm2d-24            [-1, 192, 4, 6]             384\n",
      "             ReLU-25            [-1, 192, 4, 6]               0\n",
      "           Conv2d-26            [-1, 192, 4, 6]         331,776\n",
      "    ResidualBlock-27            [-1, 192, 4, 6]               0\n",
      "      BatchNorm2d-28            [-1, 192, 4, 6]             384\n",
      "           Conv2d-29            [-1, 192, 4, 6]         331,776\n",
      "      BatchNorm2d-30            [-1, 192, 4, 6]             384\n",
      "             ReLU-31            [-1, 192, 4, 6]               0\n",
      "           Conv2d-32            [-1, 192, 4, 6]         331,776\n",
      "    ResidualBlock-33            [-1, 192, 4, 6]               0\n",
      "      BatchNorm2d-34            [-1, 192, 4, 6]             384\n",
      "           Conv2d-35            [-1, 192, 4, 6]         331,776\n",
      "      BatchNorm2d-36            [-1, 192, 4, 6]             384\n",
      "             ReLU-37            [-1, 192, 4, 6]               0\n",
      "           Conv2d-38            [-1, 192, 4, 6]         331,776\n",
      "    ResidualBlock-39            [-1, 192, 4, 6]               0\n",
      "      BatchNorm2d-40            [-1, 192, 4, 6]             384\n",
      "           Conv2d-41            [-1, 384, 2, 3]          73,728\n",
      "           Conv2d-42            [-1, 384, 2, 3]         663,552\n",
      "      BatchNorm2d-43            [-1, 384, 2, 3]             768\n",
      "             ReLU-44            [-1, 384, 2, 3]               0\n",
      "           Conv2d-45            [-1, 384, 2, 3]       1,327,104\n",
      "    ResidualBlock-46            [-1, 384, 2, 3]               0\n",
      "      BatchNorm2d-47            [-1, 384, 2, 3]             768\n",
      "           Conv2d-48            [-1, 384, 2, 3]       1,327,104\n",
      "      BatchNorm2d-49            [-1, 384, 2, 3]             768\n",
      "             ReLU-50            [-1, 384, 2, 3]               0\n",
      "           Conv2d-51            [-1, 384, 2, 3]       1,327,104\n",
      "    ResidualBlock-52            [-1, 384, 2, 3]               0\n",
      "      BatchNorm2d-53            [-1, 384, 2, 3]             768\n",
      "           Conv2d-54            [-1, 384, 2, 3]       1,327,104\n",
      "      BatchNorm2d-55            [-1, 384, 2, 3]             768\n",
      "             ReLU-56            [-1, 384, 2, 3]               0\n",
      "           Conv2d-57            [-1, 384, 2, 3]       1,327,104\n",
      "    ResidualBlock-58            [-1, 384, 2, 3]               0\n",
      "      BatchNorm2d-59            [-1, 384, 2, 3]             768\n",
      "             ReLU-60            [-1, 384, 2, 3]               0\n",
      "AdaptiveAvgPool2d-61            [-1, 384, 1, 1]               0\n",
      "          Flatten-62                  [-1, 384]               0\n",
      "           Linear-63                    [-1, 2]             770\n",
      "================================================================\n",
      "Total params: 9,655,954\n",
      "Trainable params: 9,655,954\n",
      "Non-trainable params: 0\n",
      "----------------------------------------------------------------\n",
      "Input size (MB): 0.00\n",
      "Forward/backward pass size (MB): 2.12\n",
      "Params size (MB): 36.83\n",
      "Estimated Total Size (MB): 38.95\n",
      "----------------------------------------------------------------\n"
     ]
    }
   ],
   "source": [
    "def make_group(N, ni, nf, stride):\n",
    "    start = ResidualBlock(ni, nf, stride)\n",
    "    rest = [ResidualBlock(nf, nf) for j in range(1, N)]\n",
    "    return [start] + rest\n",
    "\n",
    "class Flatten(nn.Module):\n",
    "    def __init__(self): super().__init__()\n",
    "    def forward(self, x): return x.view(x.size(0), -1)\n",
    "\n",
    "class WideResNet(nn.Module):\n",
    "    def __init__(self, n_groups, N, n_classes, k=1, n_start=16):\n",
    "        super().__init__()      \n",
    "        # Increase channels to n_start using conv layer\n",
    "        layers = [conv_2d(7, n_start)]\n",
    "        n_channels = [n_start]\n",
    "        \n",
    "        # Add groups of BasicBlock(increase channels & downsample)\n",
    "        for i in range(n_groups):\n",
    "            n_channels.append(n_start*(2**i)*k)\n",
    "            stride = 2 if i>0 else 1\n",
    "            layers += make_group(N, n_channels[i], \n",
    "                                 n_channels[i+1], stride)\n",
    "        \n",
    "        # Pool, flatten & add linear layer for classification\n",
    "        layers += [nn.BatchNorm2d(n_channels[3]), \n",
    "                   nn.ReLU(inplace=True), \n",
    "                   nn.AdaptiveAvgPool2d(1), \n",
    "                   Flatten(), \n",
    "                   nn.Linear(n_channels[3], n_classes)]\n",
    "        \n",
    "        self.features = nn.Sequential(*layers)\n",
    "        \n",
    "    def forward(self, x): return self.features(x)\n",
    "    \n",
    "def Net(): \n",
    "    return WideResNet(n_groups=3, N=3, n_classes=2, k=6)\n",
    "\n",
    "device=torch.device('cuda' if torch.cuda.is_available() else 'cpu') \n",
    "net= Net().to(device)\n",
    "summary(net, (7,7,11))"
   ]
  },
  {
   "cell_type": "code",
   "execution_count": 37,
   "metadata": {},
   "outputs": [],
   "source": [
    "from __future__ import absolute_import\n",
    "import poutyne\n",
    "from pkg_resources import parse_version\n",
    "assert parse_version(poutyne.__version__) >= parse_version('0.4'), \"Please update your Poutyne version.\"\n",
    "from poutyne.framework import Model\n",
    "from poutyne.framework import Callback\n",
    "from livelossplot import PlotLosses\n",
    "from IPython.display import clear_output"
   ]
  },
  {
   "cell_type": "code",
   "execution_count": 38,
   "metadata": {},
   "outputs": [],
   "source": [
    "## Plot Model\n",
    "class Plot(Callback):\n",
    "    def on_train_begin(self, logs={}):\n",
    "        self.i=0.0\n",
    "        self.x=[]\n",
    "        \n",
    "        self.losses=[]\n",
    "        self.val_losses=[]\n",
    "        self.acc=[]\n",
    "        self.val_acc=[]\n",
    "        \n",
    "        self.fig=plt.figure()\n",
    "        self.logs=[]\n",
    "\n",
    "    def on_epoch_end(self, epoch, logs={}):\n",
    "        self.logs.append(logs)\n",
    "        self.x.append(self.i)\n",
    "        \n",
    "        self.losses.append(logs.get('loss'))\n",
    "        self.val_losses.append(logs.get('val_loss'))\n",
    "        self.acc.append(logs.get('acc'))\n",
    "        self.val_acc.append(logs.get('val_acc'))\n",
    "        \n",
    "        self.i+=1\n",
    "        clear_output(wait=True)        \n",
    "     \n",
    "        LossAcc=plt.figure(figsize=(10, 5))\n",
    "        ax1=LossAcc.add_subplot(1,2,1)\n",
    "        ax1.plot(self.x, self.losses, label='loss', color='pink',lw=2)\n",
    "        ax1.plot(self.x, self.val_losses, label='val_loss', color='c',lw=2)\n",
    "        ax1.set_title('Loss and Val_Loss (bs={}, lr={})'.format(bs, lr))\n",
    "        ax1.set_ylabel('Loss(Num. of Epochs)')\n",
    "        ax1.set_xlabel('Num. of Epochs')\n",
    "        ax1.legend()\n",
    "        \n",
    "        ax2=LossAcc.add_subplot(1,2,2)\n",
    "        ax2.plot(self.x, self.acc, label='acc', color='pink',lw=2)\n",
    "        ax2.plot(self.x, self.val_acc, label='val_acc', color='c',lw=2)\n",
    "        ax2.set_title('Acc and Val_Acc (bs={}, lr={})'.format(bs, lr))\n",
    "        ax2.set_ylabel('Acc(Num. of Epochs)')\n",
    "        ax2.set_xlabel('Num. of Epochs')\n",
    "        ax2.legend()       \n",
    "        LossAcc.savefig('Loss_and_Acc.pdf')\n",
    "        \n",
    "        plt.show();\n",
    "\n",
    "plot=Plot()"
   ]
  },
  {
   "cell_type": "code",
   "execution_count": 39,
   "metadata": {},
   "outputs": [],
   "source": [
    "## Hyperparameters\n",
    "num_epochs=6\n",
    "#num_classes=2\n",
    "nw=3\n",
    "bs=5000\n",
    "wd=1e-5\n",
    "lr=1e-5\n",
    "momentum=0.9"
   ]
  },
  {
   "cell_type": "code",
   "execution_count": 40,
   "metadata": {
    "scrolled": true
   },
   "outputs": [
    {
     "data": {
      "image/png": "[encoded data removed]",
      "text/plain": [
       "<Figure size 720x360 with 2 Axes>"
      ]
     },
     "metadata": {},
     "output_type": "display_data"
    },
    {
     "data": {
      "text/plain": [
       "[{'epoch': 1,\n",
       "  'loss': 0.3048959851540901,\n",
       "  'time': 282.7272436702624,\n",
       "  'acc': 88.6694065729777,\n",
       "  'val_loss': 0.21567569797237715,\n",
       "  'val_acc': 92.67266553243002},\n",
       " {'epoch': 2,\n",
       "  'loss': 0.20882741902713423,\n",
       "  'time': 283.41346894577146,\n",
       "  'acc': 92.88725816232187,\n",
       "  'val_loss': 0.20455882201592127,\n",
       "  'val_acc': 93.11399981180827},\n",
       " {'epoch': 3,\n",
       "  'loss': 0.2013970022124273,\n",
       "  'time': 283.14670901186764,\n",
       "  'acc': 93.19329550001356,\n",
       "  'val_loss': 0.20008198668559393,\n",
       "  'val_acc': 93.28899904886882},\n",
       " {'epoch': 4,\n",
       "  'loss': 0.19776997751107922,\n",
       "  'time': 283.72129020281136,\n",
       "  'acc': 93.33070322672526,\n",
       "  'val_loss': 0.19633936608831087,\n",
       "  'val_acc': 93.38633346557617},\n",
       " {'epoch': 5,\n",
       "  'loss': 0.19550528473876141,\n",
       "  'time': 283.2902156487107,\n",
       "  'acc': 93.42096282111274,\n",
       "  'val_loss': 0.19461908141771952,\n",
       "  'val_acc': 93.44699948628744},\n",
       " {'epoch': 6,\n",
       "  'loss': 0.1939064656142835,\n",
       "  'time': 283.6765110399574,\n",
       "  'acc': 93.46655530576352,\n",
       "  'val_loss': 0.19805904204646746,\n",
       "  'val_acc': 93.36399981180827}]"
      ]
     },
     "execution_count": 40,
     "metadata": {},
     "output_type": "execute_result"
    }
   ],
   "source": [
    "model = Model(net, 'sgd', 'cross_entropy', batch_metrics=['accuracy'])\n",
    "model.fit_generator(train_loader,\n",
    "                    valid_loader,\n",
    "                    epochs=num_epochs,\n",
    "                    callbacks=[plot], \n",
    "                    verbose=0)"
   ]
  },
  {
   "cell_type": "code",
   "execution_count": null,
   "metadata": {},
   "outputs": [],
   "source": []
  }
 ],
 "metadata": {
  "kernelspec": {
   "display_name": "Python 3",
   "language": "python",
   "name": "python3"
  },
  "language_info": {
   "codemirror_mode": {
    "name": "ipython",
    "version": 3
   },
   "file_extension": ".py",
   "mimetype": "text/x-python",
   "name": "python",
   "nbconvert_exporter": "python",
   "pygments_lexer": "ipython3",
   "version": "3.6.3"
  }
 },
 "nbformat": 4,
 "nbformat_minor": 2
}
